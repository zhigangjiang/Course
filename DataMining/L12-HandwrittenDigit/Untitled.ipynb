{
 "cells": [
  {
   "cell_type": "markdown",
   "metadata": {},
   "source": [
    "# Chap 12 手写体数字识别kNN"
   ]
  },
  {
   "cell_type": "code",
   "execution_count": 2,
   "metadata": {},
   "outputs": [
    {
     "name": "stdout",
     "output_type": "stream",
     "text": [
      "/data/jupyter/root/ECNU/DataMining/L12-HandwrittenDigit\n"
     ]
    }
   ],
   "source": [
    "%cd /data/jupyter/root/ECNU/DataMining/L12-HandwrittenDigit"
   ]
  },
  {
   "cell_type": "code",
   "execution_count": 3,
   "metadata": {},
   "outputs": [],
   "source": [
    "# from __future__ import divisiona\n",
    "import os, sys\n",
    "\n",
    "# 启动绘图\n",
    "%matplotlib inline\n",
    "import matplotlib.pyplot as plt\n",
    "\n",
    "import pandas as pd\n",
    "import numpy as np\n",
    "import matplotlib.pyplot as plt\n",
    "\n",
    "from PIL import Image, ImageDraw\n",
    "import codecs\n",
    "import csv\n",
    "import warnings\n",
    "warnings.filterwarnings('ignore')\n",
    "\n",
    "import operator"
   ]
  },
  {
   "cell_type": "code",
   "execution_count": 4,
   "metadata": {},
   "outputs": [
    {
     "name": "stdout",
     "output_type": "stream",
     "text": [
      "[[1.  1.1]\n",
      " [1.  1. ]\n",
      " [0.  0. ]\n",
      " [0.  0.1]]\n",
      "['A', 'A', 'B', 'B']\n"
     ]
    }
   ],
   "source": [
    "def createTrainDataSet():\n",
    "    train_data_set = np.array([[1, 1.1], [1.0, 1.0], [0, 0], [0, 0.1]])\n",
    "    labels = ['A', 'A', 'B', 'B']\n",
    "    return train_data_set, labels\n",
    "\n",
    "train_data_set, labels = createTrainDataSet()\n",
    "\n",
    "print( train_data_set )\n",
    "print( labels )"
   ]
  },
  {
   "cell_type": "markdown",
   "metadata": {},
   "source": [
    "## 自己实现kNN"
   ]
  },
  {
   "cell_type": "code",
   "execution_count": 5,
   "metadata": {},
   "outputs": [
    {
     "name": "stdout",
     "output_type": "stream",
     "text": [
      "4\n",
      "[1.  1.1]\n"
     ]
    },
    {
     "data": {
      "text/plain": [
       "array([[[0., 0.],\n",
       "        [0., 0.],\n",
       "        [0., 0.],\n",
       "        [0., 0.]],\n",
       "\n",
       "       [[0., 0.],\n",
       "        [0., 0.],\n",
       "        [0., 0.],\n",
       "        [0., 0.]],\n",
       "\n",
       "       [[0., 0.],\n",
       "        [0., 0.],\n",
       "        [0., 0.],\n",
       "        [0., 0.]],\n",
       "\n",
       "       [[0., 0.],\n",
       "        [0., 0.],\n",
       "        [0., 0.],\n",
       "        [0., 0.]]])"
      ]
     },
     "execution_count": 5,
     "metadata": {},
     "output_type": "execute_result"
    }
   ],
   "source": [
    "data_set_size = train_data_set.shape[0]\n",
    "print(data_set_size)\n",
    "print(train_data_set[0])\n",
    "np.tile(train_data_set[:], (data_set_size, 1, 1)).tolist() - train_data_set\n",
    "\n",
    "# np.tile([[1,2,3], [4, 5] ], [2, 3])"
   ]
  },
  {
   "cell_type": "markdown",
   "metadata": {},
   "source": [
    "## debug"
   ]
  },
  {
   "cell_type": "code",
   "execution_count": 6,
   "metadata": {},
   "outputs": [
    {
     "name": "stdout",
     "output_type": "stream",
     "text": [
      "[[-0.4 -0.8]\n",
      " [-0.4 -0.7]\n",
      " [ 0.6  0.3]\n",
      " [ 0.6  0.2]]\n",
      "[0.89442719 0.80622577 0.67082039 0.63245553]\n",
      "[3 2 1 0]\n"
     ]
    }
   ],
   "source": [
    "new_input = [0.6, 0.3]\n",
    "data_set = train_data_set\n",
    "labels = labels\n",
    "k = 3\n",
    "\n",
    "\n",
    "data_set_size = data_set.shape[0]\n",
    "    \n",
    "diff = np.tile(new_input, (data_set_size, 1)) - data_set\n",
    "print(diff)\n",
    "dis = np.sum(diff ** 2, axis = 1) ** 0.5\n",
    "print(dis)\n",
    "sortIndex = np.argsort(dis)\n",
    "print(sortIndex)"
   ]
  },
  {
   "cell_type": "code",
   "execution_count": 7,
   "metadata": {},
   "outputs": [
    {
     "name": "stdout",
     "output_type": "stream",
     "text": [
      "B\n",
      "0\n",
      "B\n",
      "1\n",
      "A\n",
      "0\n"
     ]
    },
    {
     "data": {
      "text/plain": [
       "'B'"
      ]
     },
     "execution_count": 7,
     "metadata": {},
     "output_type": "execute_result"
    }
   ],
   "source": [
    "class_count = {}\n",
    "for i in range(k):\n",
    "    voteLabel = labels[sortIndex[i]]\n",
    "    print(voteLabel)\n",
    "    print(class_count.get(voteLabel,0))\n",
    "    class_count[voteLabel] = class_count.get(voteLabel,0) + 1\n",
    "sorted_class_count = sorted(class_count.items(), key=operator.itemgetter(1), reverse = True)\n",
    "sorted_class_count[0][0]"
   ]
  },
  {
   "cell_type": "code",
   "execution_count": 8,
   "metadata": {},
   "outputs": [],
   "source": [
    "def kNN_my(new_input, data_set, labels, k):\n",
    "    data_set_size = data_set.shape[0]\n",
    "    \n",
    "    diff = np.tile(new_input, (data_set_size, 1)) - data_set\n",
    "    dis = np.sum(diff ** 2, axis = 1) ** 0.5\n",
    "    sortIndex = np.argsort(dis)\n",
    "    class_count = {}\n",
    "    for i in range(k):\n",
    "        voteLabel = labels[sortIndex[i]]\n",
    "        class_count[voteLabel] = class_count.get(voteLabel,0) + 1\n",
    "    sorted_class_count = sorted(class_count.items(), key=operator.itemgetter(1), reverse = True)\n",
    "    return sorted_class_count[0][0]"
   ]
  },
  {
   "cell_type": "code",
   "execution_count": 9,
   "metadata": {},
   "outputs": [
    {
     "data": {
      "text/plain": [
       "'B'"
      ]
     },
     "execution_count": 9,
     "metadata": {},
     "output_type": "execute_result"
    }
   ],
   "source": [
    "kNN_my([0.6, 0.3], train_data_set,labels, 3)"
   ]
  },
  {
   "cell_type": "code",
   "execution_count": 10,
   "metadata": {},
   "outputs": [
    {
     "data": {
      "text/plain": [
       "'A'"
      ]
     },
     "execution_count": 10,
     "metadata": {},
     "output_type": "execute_result"
    }
   ],
   "source": [
    "kNN_my([1.2, 0.8], train_data_set,labels, 3)"
   ]
  },
  {
   "cell_type": "markdown",
   "metadata": {},
   "source": [
    "## 使用第三方库"
   ]
  },
  {
   "cell_type": "code",
   "execution_count": 11,
   "metadata": {},
   "outputs": [
    {
     "data": {
      "text/plain": [
       "KNeighborsClassifier(algorithm='auto', leaf_size=30, metric='minkowski',\n",
       "                     metric_params=None, n_jobs=None, n_neighbors=3, p=2,\n",
       "                     weights='uniform')"
      ]
     },
     "execution_count": 11,
     "metadata": {},
     "output_type": "execute_result"
    }
   ],
   "source": [
    "from sklearn.neighbors import KNeighborsClassifier\n",
    "k = 3\n",
    "kNN = KNeighborsClassifier(n_neighbors=k)\n",
    "kNN.fit(train_data_set, labels)"
   ]
  },
  {
   "cell_type": "code",
   "execution_count": 12,
   "metadata": {},
   "outputs": [
    {
     "data": {
      "text/plain": [
       "array([[1. , 1.1]])"
      ]
     },
     "execution_count": 12,
     "metadata": {},
     "output_type": "execute_result"
    }
   ],
   "source": [
    "train_data_set[0].reshape(1, -1)"
   ]
  },
  {
   "cell_type": "code",
   "execution_count": null,
   "metadata": {},
   "outputs": [],
   "source": []
  },
  {
   "cell_type": "code",
   "execution_count": 13,
   "metadata": {},
   "outputs": [
    {
     "data": {
      "text/plain": [
       "array(['B', 'A'], dtype='<U1')"
      ]
     },
     "execution_count": 13,
     "metadata": {},
     "output_type": "execute_result"
    }
   ],
   "source": [
    "kNN.predict(np.array([[0.6, 0.3], [1.2, 0.8]]))"
   ]
  },
  {
   "cell_type": "markdown",
   "metadata": {},
   "source": [
    "# 基于kNN的手写体数字识别系统"
   ]
  },
  {
   "cell_type": "code",
   "execution_count": 14,
   "metadata": {},
   "outputs": [],
   "source": [
    "def img2vect(file_name):\n",
    "    res = np.zeros((1, 1024))\n",
    "    fr = open(file_name)\n",
    "    for i in range(32):\n",
    "        line = fr.readline()\n",
    "        for j in range(32):\n",
    "            res[0, 32*i + j] = int(line[j])\n",
    "    return res"
   ]
  },
  {
   "cell_type": "code",
   "execution_count": 15,
   "metadata": {},
   "outputs": [
    {
     "name": "stdout",
     "output_type": "stream",
     "text": [
      "1498 434\n"
     ]
    }
   ],
   "source": [
    "from os import listdir\n",
    "train_dir = './data/trainingDigits/'\n",
    "test_dir = './data/testDigits/'\n",
    "train_file_list = listdir(train_dir)\n",
    "test_file_list = listdir(test_dir)\n",
    "m = len(train_file_list)\n",
    "n = len(test_file_list)\n",
    "print(m, n)"
   ]
  },
  {
   "cell_type": "code",
   "execution_count": 16,
   "metadata": {},
   "outputs": [],
   "source": [
    "train_labels = []\n",
    "train_data = np.zeros((m, 1024))\n",
    "\n",
    "test_labels = []\n",
    "test_data = np.zeros((n, 1024))\n",
    "\n",
    "# train_mat[0] = 1024\n",
    "# train_mat[2] = np.ones((1, 1024))\n",
    "# train_mat"
   ]
  },
  {
   "cell_type": "code",
   "execution_count": 17,
   "metadata": {},
   "outputs": [],
   "source": [
    "for i in range(m):\n",
    "    file_name = train_file_list[i]\n",
    "    train_labels.append(int(file_name.split('_')[0]))\n",
    "    train_data[i,:] = img2vect(os.path.join(train_dir, file_name))\n",
    "\n",
    "for i in range(n):\n",
    "    file_name = test_file_list[i]\n",
    "    test_labels.append(int(file_name.split('_')[0]))\n",
    "    test_data[i,:] = img2vect(os.path.join(test_dir, file_name))"
   ]
  },
  {
   "cell_type": "code",
   "execution_count": 18,
   "metadata": {},
   "outputs": [
    {
     "name": "stdout",
     "output_type": "stream",
     "text": [
      "3\n",
      "[0. 0. 0. 0. 0. 0. 0. 0. 0. 0. 0. 0. 0. 0. 1. 1. 1. 1. 1. 1. 0. 0. 0. 0.\n",
      " 0. 0. 0. 0. 0. 0. 0.]\n",
      "1\n",
      "[0. 0. 0. 0. 0. 0. 0. 0. 0. 0. 0. 0. 0. 1. 1. 1. 0. 0. 0. 0. 0. 0. 0. 0.\n",
      " 0. 0. 0. 0. 0. 0. 0.]\n"
     ]
    }
   ],
   "source": [
    "print(train_labels[0])\n",
    "print(train_data[0, 0:31])\n",
    "\n",
    "print(test_labels[0])\n",
    "print(test_data[0,0:31])"
   ]
  },
  {
   "cell_type": "code",
   "execution_count": 19,
   "metadata": {},
   "outputs": [],
   "source": [
    "error_cout = 0\n",
    "for i in range(n):\n",
    "    test_predict = kNN_my(test_data[i], train_data, train_labels, 3)\n",
    "    \n",
    "#     print(\"classifier result: %d truth: %d\" % (test_predict, test_labels[i]))\n",
    "    if(test_labels[i] != test_predict):\n",
    "        error_cout += 1\n"
   ]
  },
  {
   "cell_type": "code",
   "execution_count": 20,
   "metadata": {},
   "outputs": [
    {
     "name": "stdout",
     "output_type": "stream",
     "text": [
      "17\n",
      "error rate: 3.92%\n",
      "right rate: 96.08%\n"
     ]
    }
   ],
   "source": [
    "print(error_cout)\n",
    "print(\"error rate: %2.2f%%\"%(error_cout/n * 100))\n",
    "print(\"right rate: %2.2f%%\"%(100-error_cout/n*100))"
   ]
  },
  {
   "cell_type": "markdown",
   "metadata": {},
   "source": [
    "# 比较几种分类算法"
   ]
  },
  {
   "cell_type": "markdown",
   "metadata": {},
   "source": [
    "## kNN"
   ]
  },
  {
   "cell_type": "code",
   "execution_count": 21,
   "metadata": {},
   "outputs": [
    {
     "ename": "NameError",
     "evalue": "name 'hwLabels' is not defined",
     "output_type": "error",
     "traceback": [
      "\u001b[0;31m---------------------------------------------------------------------------\u001b[0m",
      "\u001b[0;31mNameError\u001b[0m                                 Traceback (most recent call last)",
      "\u001b[0;32m<ipython-input-21-1dd6bb4328de>\u001b[0m in \u001b[0;36m<module>\u001b[0;34m\u001b[0m\n\u001b[0;32m----> 1\u001b[0;31m \u001b[0mhwLabels\u001b[0m\u001b[0;34m\u001b[0m\u001b[0;34m\u001b[0m\u001b[0m\n\u001b[0m\u001b[1;32m      2\u001b[0m \u001b[0mtrain_mat\u001b[0m\u001b[0;34m\u001b[0m\u001b[0;34m\u001b[0m\u001b[0m\n",
      "\u001b[0;31mNameError\u001b[0m: name 'hwLabels' is not defined"
     ]
    }
   ],
   "source": [
    "hwLabels\n",
    "train_mat"
   ]
  },
  {
   "cell_type": "code",
   "execution_count": null,
   "metadata": {},
   "outputs": [],
   "source": [
    "from sklearn.neighbors import KNeighborsClassifier\n",
    "k = 3\n",
    "kNN = KNeighborsClassifier(n_neighbors=k)\n",
    "kNN.fit(train_data, train_labels)"
   ]
  },
  {
   "cell_type": "code",
   "execution_count": null,
   "metadata": {},
   "outputs": [],
   "source": [
    "res = kNN.predict(test_data)\n",
    "error_cout = 0\n",
    "for i in range(n):\n",
    "    if res[i] != test_labels[i]:\n",
    "        error_cout += 1"
   ]
  },
  {
   "cell_type": "code",
   "execution_count": null,
   "metadata": {},
   "outputs": [],
   "source": [
    "print(n)\n",
    "print(error_cout)\n",
    "print(\"error rate: %2.2f%%\"%(error_cout/n * 100))\n",
    "print(\"right rate: %2.2f%%\"%(100-error_cout/n*100))"
   ]
  },
  {
   "cell_type": "markdown",
   "metadata": {},
   "source": [
    "## SVM"
   ]
  },
  {
   "cell_type": "markdown",
   "metadata": {},
   "source": [
    "### linear"
   ]
  },
  {
   "cell_type": "code",
   "execution_count": 65,
   "metadata": {},
   "outputs": [
    {
     "data": {
      "text/plain": [
       "SVC(C=1.0, break_ties=False, cache_size=200, class_weight=None, coef0=0.0,\n",
       "    decision_function_shape='ovr', degree=3, gamma='scale', kernel='linear',\n",
       "    max_iter=-1, probability=False, random_state=None, shrinking=True,\n",
       "    tol=0.001, verbose=False)"
      ]
     },
     "execution_count": 65,
     "metadata": {},
     "output_type": "execute_result"
    }
   ],
   "source": [
    "from sklearn.svm import SVC\n",
    "svm_kinear = SVC(C=1.0, kernel='linear')\n",
    "svm_kinear.fit(train_data, train_labels)"
   ]
  },
  {
   "cell_type": "code",
   "execution_count": 66,
   "metadata": {},
   "outputs": [],
   "source": [
    "res = svm_kinear.predict(test_data)\n",
    "error_cout = 0\n",
    "for i in range(n):\n",
    "    if res[i] != test_labels[i]:\n",
    "        error_cout += 1\n",
    "#         print(\"res:%d truth:%d\"%(res[i], test_labels[i]))\n",
    "#         print(test_file_list[i])"
   ]
  },
  {
   "cell_type": "code",
   "execution_count": 67,
   "metadata": {},
   "outputs": [
    {
     "name": "stdout",
     "output_type": "stream",
     "text": [
      "434\n",
      "18\n",
      "error rate: 4.15%\n",
      "right rate: 95.85%\n"
     ]
    }
   ],
   "source": [
    "print(n)\n",
    "print(error_cout)\n",
    "print(\"error rate: %2.2f%%\"%(error_cout/n * 100))\n",
    "print(\"right rate: %2.2f%%\"%(100-error_cout/n*100))"
   ]
  },
  {
   "cell_type": "markdown",
   "metadata": {},
   "source": [
    "### poly"
   ]
  },
  {
   "cell_type": "code",
   "execution_count": 71,
   "metadata": {},
   "outputs": [
    {
     "data": {
      "text/plain": [
       "SVC(C=1.0, break_ties=False, cache_size=200, class_weight=None, coef0=0.0,\n",
       "    decision_function_shape='ovr', degree=3, gamma='scale', kernel='rbf',\n",
       "    max_iter=-1, probability=False, random_state=None, shrinking=True,\n",
       "    tol=0.001, verbose=False)"
      ]
     },
     "execution_count": 71,
     "metadata": {},
     "output_type": "execute_result"
    }
   ],
   "source": [
    "from sklearn.svm import SVC\n",
    "svm_poly = SVC(C=1.0, kernel='rbf')\n",
    "svm_poly.fit(train_data, train_labels)"
   ]
  },
  {
   "cell_type": "code",
   "execution_count": 72,
   "metadata": {},
   "outputs": [],
   "source": [
    "res = svm_poly.predict(test_data)\n",
    "error_cout = 0\n",
    "for i in range(n):\n",
    "    if res[i] != test_labels[i]:\n",
    "        error_cout += 1\n",
    "#         print(\"res:%d truth:%d\"%(res[i], test_labels[i]))\n",
    "#         print(test_file_list[i])"
   ]
  },
  {
   "cell_type": "code",
   "execution_count": 73,
   "metadata": {},
   "outputs": [
    {
     "name": "stdout",
     "output_type": "stream",
     "text": [
      "434\n",
      "13\n",
      "error rate: 3.00%\n",
      "right rate: 97.00%\n"
     ]
    }
   ],
   "source": [
    "print(n)\n",
    "print(error_cout)\n",
    "print(\"error rate: %2.2f%%\"%(error_cout/n * 100))\n",
    "print(\"right rate: %2.2f%%\"%(100-error_cout/n*100))"
   ]
  },
  {
   "cell_type": "markdown",
   "metadata": {},
   "source": [
    "## 决策树"
   ]
  },
  {
   "cell_type": "code",
   "execution_count": 75,
   "metadata": {},
   "outputs": [
    {
     "data": {
      "text/plain": [
       "DecisionTreeClassifier(ccp_alpha=0.0, class_weight=None, criterion='entropy',\n",
       "                       max_depth=None, max_features=None, max_leaf_nodes=None,\n",
       "                       min_impurity_decrease=0.0, min_impurity_split=None,\n",
       "                       min_samples_leaf=1, min_samples_split=2,\n",
       "                       min_weight_fraction_leaf=0.0, presort='deprecated',\n",
       "                       random_state=0, splitter='best')"
      ]
     },
     "execution_count": 75,
     "metadata": {},
     "output_type": "execute_result"
    }
   ],
   "source": [
    "from sklearn.tree import DecisionTreeClassifier\n",
    "dec_tree = DecisionTreeClassifier(criterion='entropy', random_state=0)\n",
    "dec_tree.fit(train_data, train_labels)"
   ]
  },
  {
   "cell_type": "code",
   "execution_count": null,
   "metadata": {},
   "outputs": [],
   "source": [
    "res = dec_tree.predict(test_data)\n",
    "error_cout = 0\n",
    "for i in range(n):\n",
    "    if res[i] != test_labels[i]:\n",
    "        error_cout += 1\n",
    "#         print(\"res:%d truth:%d\"%(res[i], test_labels[i]))\n",
    "#         print(test_file_list[i])"
   ]
  },
  {
   "cell_type": "code",
   "execution_count": null,
   "metadata": {},
   "outputs": [],
   "source": [
    "print(n)\n",
    "print(error_cout)\n",
    "print(\"error rate: %2.2f%%\"%(error_cout/n * 100))\n",
    "print(\"right rate: %2.2f%%\"%(100-error_cout/n*100))"
   ]
  },
  {
   "cell_type": "markdown",
   "metadata": {},
   "source": [
    "## Sklearn中NB算法(不懂)"
   ]
  },
  {
   "cell_type": "code",
   "execution_count": null,
   "metadata": {},
   "outputs": [],
   "source": [
    "from sklearn.naive_bayes import GaussianNB\n",
    "from sklearn.naive_bayes import MultinomialNB\n",
    "from sklearn.naive_bayes import BernoulliNB\n",
    "\n",
    "nb1 = GaussianNB()\n",
    "nb2 = MultinomialNB()\n",
    "nb3 = BernoulliNB()\n",
    "\n",
    "nb1.fit(train_data, train_labels)\n",
    "nb2.fit(train_data, train_labels)\n",
    "nb3.fit(train_data, train_labels)"
   ]
  },
  {
   "cell_type": "code",
   "execution_count": null,
   "metadata": {},
   "outputs": [],
   "source": [
    "res = nb3.predict(test_data)\n",
    "error_cout = 0\n",
    "for i in range(n):\n",
    "    if res[i] != test_labels[i]:\n",
    "        error_cout += 1\n",
    "#         print(\"res:%d truth:%d\"%(res[i], test_labels[i]))\n",
    "#         print(test_file_list[i])"
   ]
  },
  {
   "cell_type": "code",
   "execution_count": null,
   "metadata": {},
   "outputs": [],
   "source": [
    "print(n)\n",
    "print(error_cout)\n",
    "print(\"error rate: %2.2f%%\"%(error_cout/n * 100))\n",
    "print(\"right rate: %2.2f%%\"%(100-error_cout/n*100))"
   ]
  },
  {
   "cell_type": "markdown",
   "metadata": {},
   "source": [
    "# 手写测试\n"
   ]
  },
  {
   "cell_type": "code",
   "execution_count": 61,
   "metadata": {},
   "outputs": [
    {
     "data": {
      "image/png": "[encoded data removed]",
      "text/plain": [
       "<Figure size 432x288 with 1 Axes>"
      ]
     },
     "metadata": {
      "needs_background": "light"
     },
     "output_type": "display_data"
    },
    {
     "data": {
      "text/plain": [
       "array([[0., 0., 0., ..., 0., 0., 0.]])"
      ]
     },
     "execution_count": 61,
     "metadata": {},
     "output_type": "execute_result"
    }
   ],
   "source": [
    "import cv2\n",
    "img = cv2.imread('data/images/hw-5.png', 0)\n",
    "img = cv2.resize(img, (32,32),None,0,0,cv2.INTER_AREA)\n",
    "ret, img = cv2.threshold(img,200,255,cv2.THRESH_BINARY) \n",
    "plt.imshow(img,cmap='gray')\n",
    "plt.show()\n",
    "\n",
    "str = \"\"\n",
    "for x in range(img.shape[0]):\n",
    "    for y in range(img.shape[1]):\n",
    "        str += \"0\" if img[x, y]>0 else \"1\"\n",
    "    str += \"\\n\"\n"
   ]
  },
  {
   "cell_type": "code",
   "execution_count": 62,
   "metadata": {},
   "outputs": [
    {
     "data": {
      "text/plain": [
       "array([[0., 0., 0., ..., 0., 0., 0.]])"
      ]
     },
     "execution_count": 62,
     "metadata": {},
     "output_type": "execute_result"
    }
   ],
   "source": [
    "import os\n",
    "with open('data/images/hw-5.txt', 'w') as f:\n",
    "    f.write(str)\n",
    "\n",
    "with open('data/images/hw-5.txt', 'r') as f:\n",
    "    old = f.read()\n",
    "#     print(old)\n",
    "hw_vect = img2vect(\"data/images/hw-5.txt\")\n",
    "hw_vect"
   ]
  },
  {
   "cell_type": "code",
   "execution_count": 63,
   "metadata": {},
   "outputs": [
    {
     "data": {
      "text/plain": [
       "1"
      ]
     },
     "execution_count": 63,
     "metadata": {},
     "output_type": "execute_result"
    }
   ],
   "source": [
    "kNN_my(hw_vect, train_data, train_labels, 3)"
   ]
  },
  {
   "cell_type": "code",
   "execution_count": 70,
   "metadata": {},
   "outputs": [
    {
     "data": {
      "text/plain": [
       "array([4])"
      ]
     },
     "execution_count": 70,
     "metadata": {},
     "output_type": "execute_result"
    }
   ],
   "source": [
    "svm_kinear.predict(hw_vect)"
   ]
  },
  {
   "cell_type": "code",
   "execution_count": 74,
   "metadata": {},
   "outputs": [
    {
     "data": {
      "text/plain": [
       "array([4])"
      ]
     },
     "execution_count": 74,
     "metadata": {},
     "output_type": "execute_result"
    }
   ],
   "source": [
    "svm_poly.predict(hw_vect)"
   ]
  },
  {
   "cell_type": "code",
   "execution_count": 76,
   "metadata": {},
   "outputs": [
    {
     "data": {
      "text/plain": [
       "array([8])"
      ]
     },
     "execution_count": 76,
     "metadata": {},
     "output_type": "execute_result"
    }
   ],
   "source": [
    "dec_tree.predict(hw_vect)"
   ]
  }
 ],
 "metadata": {
  "kernelspec": {
   "display_name": "DataMining",
   "language": "python",
   "name": "datamining"
  },
  "language_info": {
   "codemirror_mode": {
    "name": "ipython",
    "version": 3
   },
   "file_extension": ".py",
   "mimetype": "text/x-python",
   "name": "python",
   "nbconvert_exporter": "python",
   "pygments_lexer": "ipython3",
   "version": "3.7.5"
  },
  "toc": {
   "base_numbering": 1,
   "nav_menu": {},
   "number_sections": true,
   "sideBar": true,
   "skip_h1_title": false,
   "title_cell": "Table of Contents",
   "title_sidebar": "Contents",
   "toc_cell": false,
   "toc_position": {},
   "toc_section_display": true,
   "toc_window_display": false
  }
 },
 "nbformat": 4,
 "nbformat_minor": 2
}
