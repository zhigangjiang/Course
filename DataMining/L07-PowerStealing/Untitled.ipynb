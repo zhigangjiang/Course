{
 "cells": [
  {
   "cell_type": "code",
   "execution_count": 6,
   "metadata": {},
   "outputs": [
    {
     "name": "stdout",
     "output_type": "stream",
     "text": [
      "/data/jupyter/root/ECNU/DataMining/L07-PowerStealing\n"
     ]
    }
   ],
   "source": [
    "%cd /data/jupyter/root/ECNU/DataMining/L07-PowerStealing/"
   ]
  },
  {
   "cell_type": "code",
   "execution_count": 12,
   "metadata": {
    "code_folding": []
   },
   "outputs": [],
   "source": [
    "from __future__ import division\n",
    "import os, sys\n",
    "\n",
    "import numpy as np\n",
    "import pandas as pd\n",
    "from pandas import Series, DataFrame\n",
    "\n",
    "%matplotlib inline\n",
    "import matplotlib.pyplot as plt\n",
    "from numpy import nan as NA\n",
    "np.random.seed(12345)\n",
    "np.set_printoptions(precision=4)\n",
    "plt.rc('figure', figsize=(10, 6))\n",
    "import warnings\n",
    "warnings.filterwarnings('ignore')"
   ]
  },
  {
   "cell_type": "markdown",
   "metadata": {},
   "source": [
    "# 构建识别模型"
   ]
  },
  {
   "cell_type": "markdown",
   "metadata": {},
   "source": [
    "## 数据划分"
   ]
  },
  {
   "cell_type": "code",
   "execution_count": 13,
   "metadata": {},
   "outputs": [
    {
     "data": {
      "text/html": [
       "<div>\n",
       "<style scoped>\n",
       "    .dataframe tbody tr th:only-of-type {\n",
       "        vertical-align: middle;\n",
       "    }\n",
       "\n",
       "    .dataframe tbody tr th {\n",
       "        vertical-align: top;\n",
       "    }\n",
       "\n",
       "    .dataframe thead th {\n",
       "        text-align: right;\n",
       "    }\n",
       "</style>\n",
       "<table border=\"1\" class=\"dataframe\">\n",
       "  <thead>\n",
       "    <tr style=\"text-align: right;\">\n",
       "      <th></th>\n",
       "      <th>电量趋势下降指标</th>\n",
       "      <th>线损指标</th>\n",
       "      <th>告警类指标</th>\n",
       "      <th>是否窃漏电</th>\n",
       "    </tr>\n",
       "  </thead>\n",
       "  <tbody>\n",
       "    <tr>\n",
       "      <th>0</th>\n",
       "      <td>4</td>\n",
       "      <td>1</td>\n",
       "      <td>1</td>\n",
       "      <td>1</td>\n",
       "    </tr>\n",
       "    <tr>\n",
       "      <th>1</th>\n",
       "      <td>4</td>\n",
       "      <td>0</td>\n",
       "      <td>4</td>\n",
       "      <td>1</td>\n",
       "    </tr>\n",
       "    <tr>\n",
       "      <th>2</th>\n",
       "      <td>2</td>\n",
       "      <td>1</td>\n",
       "      <td>1</td>\n",
       "      <td>1</td>\n",
       "    </tr>\n",
       "    <tr>\n",
       "      <th>3</th>\n",
       "      <td>9</td>\n",
       "      <td>0</td>\n",
       "      <td>0</td>\n",
       "      <td>0</td>\n",
       "    </tr>\n",
       "    <tr>\n",
       "      <th>4</th>\n",
       "      <td>3</td>\n",
       "      <td>1</td>\n",
       "      <td>0</td>\n",
       "      <td>0</td>\n",
       "    </tr>\n",
       "    <tr>\n",
       "      <th>...</th>\n",
       "      <td>...</td>\n",
       "      <td>...</td>\n",
       "      <td>...</td>\n",
       "      <td>...</td>\n",
       "    </tr>\n",
       "    <tr>\n",
       "      <th>286</th>\n",
       "      <td>4</td>\n",
       "      <td>1</td>\n",
       "      <td>2</td>\n",
       "      <td>0</td>\n",
       "    </tr>\n",
       "    <tr>\n",
       "      <th>287</th>\n",
       "      <td>1</td>\n",
       "      <td>0</td>\n",
       "      <td>2</td>\n",
       "      <td>0</td>\n",
       "    </tr>\n",
       "    <tr>\n",
       "      <th>288</th>\n",
       "      <td>5</td>\n",
       "      <td>1</td>\n",
       "      <td>2</td>\n",
       "      <td>1</td>\n",
       "    </tr>\n",
       "    <tr>\n",
       "      <th>289</th>\n",
       "      <td>2</td>\n",
       "      <td>1</td>\n",
       "      <td>0</td>\n",
       "      <td>0</td>\n",
       "    </tr>\n",
       "    <tr>\n",
       "      <th>290</th>\n",
       "      <td>4</td>\n",
       "      <td>1</td>\n",
       "      <td>0</td>\n",
       "      <td>0</td>\n",
       "    </tr>\n",
       "  </tbody>\n",
       "</table>\n",
       "<p>291 rows × 4 columns</p>\n",
       "</div>"
      ],
      "text/plain": [
       "     电量趋势下降指标  线损指标  告警类指标  是否窃漏电\n",
       "0           4     1      1      1\n",
       "1           4     0      4      1\n",
       "2           2     1      1      1\n",
       "3           9     0      0      0\n",
       "4           3     1      0      0\n",
       "..        ...   ...    ...    ...\n",
       "286         4     1      2      0\n",
       "287         1     0      2      0\n",
       "288         5     1      2      1\n",
       "289         2     1      0      0\n",
       "290         4     1      0      0\n",
       "\n",
       "[291 rows x 4 columns]"
      ]
     },
     "execution_count": 13,
     "metadata": {},
     "output_type": "execute_result"
    }
   ],
   "source": [
    "data_file = 'data/powerdata.xls'\n",
    "data_ = pd.read_excel(data_file)\n",
    "data_"
   ]
  },
  {
   "cell_type": "code",
   "execution_count": null,
   "metadata": {},
   "outputs": [],
   "source": []
  },
  {
   "cell_type": "code",
   "execution_count": 14,
   "metadata": {},
   "outputs": [
    {
     "data": {
      "text/plain": [
       "array([[4, 1, 1, 1],\n",
       "       [4, 0, 4, 1],\n",
       "       [2, 1, 1, 1],\n",
       "       ...,\n",
       "       [5, 1, 2, 1],\n",
       "       [2, 1, 0, 0],\n",
       "       [4, 1, 0, 0]])"
      ]
     },
     "execution_count": 14,
     "metadata": {},
     "output_type": "execute_result"
    }
   ],
   "source": [
    "data"
   ]
  },
  {
   "cell_type": "code",
   "execution_count": 15,
   "metadata": {},
   "outputs": [],
   "source": [
    "from random import shuffle\n",
    "data = data_.as_matrix()\n",
    "shuffle(data)"
   ]
  },
  {
   "cell_type": "code",
   "execution_count": 16,
   "metadata": {},
   "outputs": [],
   "source": [
    "p = 0.8\n",
    "train = data[:int(len(data) * p), :]\n",
    "test = data[int(len(data) * p):, :]"
   ]
  },
  {
   "cell_type": "code",
   "execution_count": 17,
   "metadata": {},
   "outputs": [
    {
     "data": {
      "text/plain": [
       "232"
      ]
     },
     "execution_count": 17,
     "metadata": {},
     "output_type": "execute_result"
    }
   ],
   "source": [
    "len(train)"
   ]
  },
  {
   "cell_type": "code",
   "execution_count": 18,
   "metadata": {},
   "outputs": [
    {
     "data": {
      "text/plain": [
       "59"
      ]
     },
     "execution_count": 18,
     "metadata": {},
     "output_type": "execute_result"
    }
   ],
   "source": [
    "len(test)"
   ]
  },
  {
   "cell_type": "code",
   "execution_count": 249,
   "metadata": {},
   "outputs": [],
   "source": [
    "# test[:, 3] = 5\n",
    "# test"
   ]
  },
  {
   "cell_type": "markdown",
   "metadata": {},
   "source": [
    "# 决策树"
   ]
  },
  {
   "cell_type": "code",
   "execution_count": 250,
   "metadata": {},
   "outputs": [],
   "source": [
    "# 构建CART决策树模型\n",
    "from sklearn.tree import DecisionTreeClassifier\n",
    "tree = DecisionTreeClassifier(criterion='entropy')"
   ]
  },
  {
   "cell_type": "code",
   "execution_count": 251,
   "metadata": {},
   "outputs": [
    {
     "data": {
      "text/plain": [
       "DecisionTreeClassifier(ccp_alpha=0.0, class_weight=None, criterion='entropy',\n",
       "                       max_depth=None, max_features=None, max_leaf_nodes=None,\n",
       "                       min_impurity_decrease=0.0, min_impurity_split=None,\n",
       "                       min_samples_leaf=1, min_samples_split=2,\n",
       "                       min_weight_fraction_leaf=0.0, presort='deprecated',\n",
       "                       random_state=None, splitter='best')"
      ]
     },
     "execution_count": 251,
     "metadata": {},
     "output_type": "execute_result"
    }
   ],
   "source": [
    "# 训练模型\n",
    "tree.fit(train[:, :3], train[:, 3]) # 训练喂数据 分别为特征和类标"
   ]
  },
  {
   "cell_type": "code",
   "execution_count": 368,
   "metadata": {},
   "outputs": [
    {
     "data": {
      "text/plain": [
       "['data/output/treemodel.pkl']"
      ]
     },
     "execution_count": 368,
     "metadata": {},
     "output_type": "execute_result"
    }
   ],
   "source": [
    "# 保存模型\n",
    "from sklearn.externals import joblib\n",
    "tree_file = 'data/output/treemodel.pkl'\n",
    "joblib.dump(tree, tree_file)"
   ]
  },
  {
   "cell_type": "code",
   "execution_count": 253,
   "metadata": {},
   "outputs": [
    {
     "data": {
      "text/plain": [
       "array([0, 0, 0, 1, 0, 0, 0, 0, 0, 0, 0, 0, 0, 0, 0, 0, 0, 0, 0, 0, 1, 0,\n",
       "       1, 1, 0, 0, 0, 0, 0, 0, 0, 1, 0, 0, 0, 0, 0, 1, 1, 0, 0, 0, 0, 0,\n",
       "       0, 0, 0, 0, 0, 0, 0, 0, 0, 0, 0, 1, 1, 0, 0])"
      ]
     },
     "execution_count": 253,
     "metadata": {},
     "output_type": "execute_result"
    }
   ],
   "source": [
    "# 直接预测\n",
    "predict_result = tree.predict(test[:, :3])\n",
    "predict_result"
   ]
  },
  {
   "cell_type": "code",
   "execution_count": 254,
   "metadata": {},
   "outputs": [
    {
     "data": {
      "text/plain": [
       "array([[4, 0, 2, 0],\n",
       "       [2, 1, 0, 0],\n",
       "       [4, 0, 2, 0],\n",
       "       [2, 1, 1, 0],\n",
       "       [2, 0, 1, 0],\n",
       "       [4, 0, 2, 1],\n",
       "       [4, 1, 0, 0],\n",
       "       [0, 0, 0, 0],\n",
       "       [2, 0, 3, 0],\n",
       "       [4, 0, 1, 0],\n",
       "       [4, 0, 2, 0],\n",
       "       [4, 1, 0, 0],\n",
       "       [2, 1, 0, 0],\n",
       "       [1, 0, 3, 0],\n",
       "       [1, 0, 2, 0],\n",
       "       [0, 0, 0, 0],\n",
       "       [1, 0, 2, 0],\n",
       "       [3, 0, 0, 0],\n",
       "       [4, 0, 2, 1],\n",
       "       [3, 1, 0, 0],\n",
       "       [6, 0, 0, 0],\n",
       "       [1, 1, 2, 0],\n",
       "       [2, 1, 4, 1],\n",
       "       [5, 1, 2, 1],\n",
       "       [0, 1, 2, 0],\n",
       "       [0, 1, 2, 0],\n",
       "       [2, 0, 2, 0],\n",
       "       [4, 0, 2, 0],\n",
       "       [0, 0, 2, 0],\n",
       "       [7, 0, 0, 0],\n",
       "       [4, 0, 2, 0],\n",
       "       [7, 1, 4, 1],\n",
       "       [2, 0, 1, 0],\n",
       "       [2, 0, 2, 0],\n",
       "       [3, 1, 2, 0],\n",
       "       [0, 0, 2, 0],\n",
       "       [2, 0, 2, 0],\n",
       "       [7, 1, 1, 1],\n",
       "       [5, 0, 2, 1],\n",
       "       [1, 0, 1, 0],\n",
       "       [1, 1, 0, 0],\n",
       "       [1, 1, 2, 0],\n",
       "       [1, 1, 0, 0],\n",
       "       [0, 0, 0, 0],\n",
       "       [4, 1, 0, 0],\n",
       "       [4, 1, 0, 0],\n",
       "       [0, 0, 1, 0],\n",
       "       [0, 1, 0, 0],\n",
       "       [1, 0, 2, 0],\n",
       "       [4, 1, 0, 0],\n",
       "       [0, 1, 0, 0],\n",
       "       [3, 1, 0, 0],\n",
       "       [1, 1, 2, 0],\n",
       "       [0, 0, 2, 0],\n",
       "       [1, 1, 2, 0],\n",
       "       [9, 0, 4, 1],\n",
       "       [5, 1, 1, 0],\n",
       "       [2, 0, 2, 0],\n",
       "       [1, 1, 0, 0]])"
      ]
     },
     "execution_count": 254,
     "metadata": {},
     "output_type": "execute_result"
    }
   ],
   "source": [
    "test"
   ]
  },
  {
   "cell_type": "code",
   "execution_count": 255,
   "metadata": {},
   "outputs": [
    {
     "data": {
      "text/plain": [
       "0.9152542372881356"
      ]
     },
     "execution_count": 255,
     "metadata": {},
     "output_type": "execute_result"
    }
   ],
   "source": [
    "# 准确率\n",
    "accuracy = tree.score(test[:, :3], test[:,3])\n",
    "accuracy"
   ]
  },
  {
   "cell_type": "code",
   "execution_count": 256,
   "metadata": {},
   "outputs": [
    {
     "name": "stdout",
     "output_type": "stream",
     "text": [
      "[0 0 0 1 0 0 0 0 0 0 0 0 0 0 0 0 0 0 0 0 1 0 1 1 0 0 0 0 0 0 0 1 0 0 0 0 0\n",
      " 1 1 0 0 0 0 0 0 0 0 0 0 0 0 0 0 0 0 1 1 0 0]\n",
      "[0 0 0 0 0 1 0 0 0 0 0 0 0 0 0 0 0 0 1 0 0 0 1 1 0 0 0 0 0 0 0 1 0 0 0 0 0\n",
      " 1 1 0 0 0 0 0 0 0 0 0 0 0 0 0 0 0 0 1 0 0 0]\n"
     ]
    }
   ],
   "source": [
    "# 结果对比\n",
    "print(predict_result)\n",
    "print(test[:, 3])"
   ]
  },
  {
   "cell_type": "code",
   "execution_count": 257,
   "metadata": {},
   "outputs": [
    {
     "data": {
      "text/plain": [
       "array([[0.8333, 0.1667],\n",
       "       [0.6667, 0.3333],\n",
       "       [0.8333, 0.1667],\n",
       "       [0.375 , 0.625 ],\n",
       "       [1.    , 0.    ],\n",
       "       [0.8333, 0.1667],\n",
       "       [1.    , 0.    ],\n",
       "       [1.    , 0.    ],\n",
       "       [1.    , 0.    ],\n",
       "       [1.    , 0.    ],\n",
       "       [0.8333, 0.1667],\n",
       "       [1.    , 0.    ],\n",
       "       [0.6667, 0.3333],\n",
       "       [1.    , 0.    ],\n",
       "       [1.    , 0.    ],\n",
       "       [1.    , 0.    ],\n",
       "       [1.    , 0.    ],\n",
       "       [1.    , 0.    ],\n",
       "       [0.8333, 0.1667],\n",
       "       [1.    , 0.    ],\n",
       "       [0.4   , 0.6   ],\n",
       "       [1.    , 0.    ],\n",
       "       [0.    , 1.    ],\n",
       "       [0.3333, 0.6667],\n",
       "       [1.    , 0.    ],\n",
       "       [1.    , 0.    ],\n",
       "       [1.    , 0.    ],\n",
       "       [0.8333, 0.1667],\n",
       "       [1.    , 0.    ],\n",
       "       [1.    , 0.    ],\n",
       "       [0.8333, 0.1667],\n",
       "       [0.    , 1.    ],\n",
       "       [1.    , 0.    ],\n",
       "       [1.    , 0.    ],\n",
       "       [1.    , 0.    ],\n",
       "       [1.    , 0.    ],\n",
       "       [1.    , 0.    ],\n",
       "       [0.    , 1.    ],\n",
       "       [0.    , 1.    ],\n",
       "       [1.    , 0.    ],\n",
       "       [1.    , 0.    ],\n",
       "       [1.    , 0.    ],\n",
       "       [1.    , 0.    ],\n",
       "       [1.    , 0.    ],\n",
       "       [1.    , 0.    ],\n",
       "       [1.    , 0.    ],\n",
       "       [1.    , 0.    ],\n",
       "       [1.    , 0.    ],\n",
       "       [1.    , 0.    ],\n",
       "       [1.    , 0.    ],\n",
       "       [1.    , 0.    ],\n",
       "       [1.    , 0.    ],\n",
       "       [1.    , 0.    ],\n",
       "       [1.    , 0.    ],\n",
       "       [1.    , 0.    ],\n",
       "       [0.    , 1.    ],\n",
       "       [0.3333, 0.6667],\n",
       "       [1.    , 0.    ],\n",
       "       [1.    , 0.    ]])"
      ]
     },
     "execution_count": 257,
     "metadata": {},
     "output_type": "execute_result"
    }
   ],
   "source": [
    "# 直接给出预测结果(就是可能性概率 > 0.5 认为类标为正)\n",
    "predict_proba_result = tree.predict_proba(test[:, :3])\n",
    "predict_proba_result"
   ]
  },
  {
   "cell_type": "markdown",
   "metadata": {},
   "source": [
    "## 结果可视化"
   ]
  },
  {
   "cell_type": "code",
   "execution_count": 258,
   "metadata": {},
   "outputs": [],
   "source": [
    "from sklearn.metrics import roc_curve\n",
    "from sklearn import metrics\n",
    "fpr, tpr, thresholds = roc_curve(\n",
    "    test[:, 3], \n",
    "    tree.predict_proba(test[:,:3])[:, 1],\n",
    "    pos_label=1\n",
    ")\n",
    "auc = metrics.auc(fpr, tpr)"
   ]
  },
  {
   "cell_type": "code",
   "execution_count": 259,
   "metadata": {
    "hide_input": false
   },
   "outputs": [
    {
     "data": {
      "image/png": "[encoded data removed]",
      "text/plain": [
       "<Figure size 720x432 with 1 Axes>"
      ]
     },
     "metadata": {
      "needs_background": "light"
     },
     "output_type": "display_data"
    }
   ],
   "source": [
    "plt.plot(fpr, tpr, linewidth=2, label='ROC(area = %0.2f)' % auc, color='green')\n",
    "plt.xlabel('Fail Positive Rate')\n",
    "plt.ylabel('Ture Positive Rate')\n",
    "plt.xlim(0, 1.05)\n",
    "plt.ylim(0, 1.05)\n",
    "plt.legend(loc=4)\n",
    "plt.show()"
   ]
  },
  {
   "cell_type": "markdown",
   "metadata": {},
   "source": [
    "# 朴素贝叶斯"
   ]
  },
  {
   "cell_type": "code",
   "execution_count": 426,
   "metadata": {},
   "outputs": [
    {
     "data": {
      "text/html": [
       "<div>\n",
       "<style scoped>\n",
       "    .dataframe tbody tr th:only-of-type {\n",
       "        vertical-align: middle;\n",
       "    }\n",
       "\n",
       "    .dataframe tbody tr th {\n",
       "        vertical-align: top;\n",
       "    }\n",
       "\n",
       "    .dataframe thead th {\n",
       "        text-align: right;\n",
       "    }\n",
       "</style>\n",
       "<table border=\"1\" class=\"dataframe\">\n",
       "  <thead>\n",
       "    <tr style=\"text-align: right;\">\n",
       "      <th></th>\n",
       "      <th>电量趋势下降指标</th>\n",
       "      <th>线损指标</th>\n",
       "      <th>告警类指标</th>\n",
       "      <th>是否窃漏电</th>\n",
       "    </tr>\n",
       "  </thead>\n",
       "  <tbody>\n",
       "    <tr>\n",
       "      <th>0</th>\n",
       "      <td>4</td>\n",
       "      <td>1</td>\n",
       "      <td>1</td>\n",
       "      <td>1</td>\n",
       "    </tr>\n",
       "    <tr>\n",
       "      <th>1</th>\n",
       "      <td>4</td>\n",
       "      <td>0</td>\n",
       "      <td>4</td>\n",
       "      <td>1</td>\n",
       "    </tr>\n",
       "    <tr>\n",
       "      <th>2</th>\n",
       "      <td>2</td>\n",
       "      <td>1</td>\n",
       "      <td>1</td>\n",
       "      <td>1</td>\n",
       "    </tr>\n",
       "    <tr>\n",
       "      <th>3</th>\n",
       "      <td>9</td>\n",
       "      <td>0</td>\n",
       "      <td>0</td>\n",
       "      <td>0</td>\n",
       "    </tr>\n",
       "    <tr>\n",
       "      <th>4</th>\n",
       "      <td>3</td>\n",
       "      <td>1</td>\n",
       "      <td>0</td>\n",
       "      <td>0</td>\n",
       "    </tr>\n",
       "    <tr>\n",
       "      <th>...</th>\n",
       "      <td>...</td>\n",
       "      <td>...</td>\n",
       "      <td>...</td>\n",
       "      <td>...</td>\n",
       "    </tr>\n",
       "    <tr>\n",
       "      <th>286</th>\n",
       "      <td>4</td>\n",
       "      <td>1</td>\n",
       "      <td>2</td>\n",
       "      <td>0</td>\n",
       "    </tr>\n",
       "    <tr>\n",
       "      <th>287</th>\n",
       "      <td>1</td>\n",
       "      <td>0</td>\n",
       "      <td>2</td>\n",
       "      <td>0</td>\n",
       "    </tr>\n",
       "    <tr>\n",
       "      <th>288</th>\n",
       "      <td>5</td>\n",
       "      <td>1</td>\n",
       "      <td>2</td>\n",
       "      <td>1</td>\n",
       "    </tr>\n",
       "    <tr>\n",
       "      <th>289</th>\n",
       "      <td>2</td>\n",
       "      <td>1</td>\n",
       "      <td>0</td>\n",
       "      <td>0</td>\n",
       "    </tr>\n",
       "    <tr>\n",
       "      <th>290</th>\n",
       "      <td>4</td>\n",
       "      <td>1</td>\n",
       "      <td>0</td>\n",
       "      <td>0</td>\n",
       "    </tr>\n",
       "  </tbody>\n",
       "</table>\n",
       "<p>291 rows × 4 columns</p>\n",
       "</div>"
      ],
      "text/plain": [
       "     电量趋势下降指标  线损指标  告警类指标  是否窃漏电\n",
       "0           4     1      1      1\n",
       "1           4     0      4      1\n",
       "2           2     1      1      1\n",
       "3           9     0      0      0\n",
       "4           3     1      0      0\n",
       "..        ...   ...    ...    ...\n",
       "286         4     1      2      0\n",
       "287         1     0      2      0\n",
       "288         5     1      2      1\n",
       "289         2     1      0      0\n",
       "290         4     1      0      0\n",
       "\n",
       "[291 rows x 4 columns]"
      ]
     },
     "execution_count": 426,
     "metadata": {},
     "output_type": "execute_result"
    }
   ],
   "source": [
    "data_"
   ]
  },
  {
   "cell_type": "code",
   "execution_count": 436,
   "metadata": {},
   "outputs": [
    {
     "data": {
      "text/plain": [
       "array([[4, 1, 1, 1],\n",
       "       [4, 0, 4, 1],\n",
       "       [2, 1, 1, 1],\n",
       "       ...,\n",
       "       [2, 1, 1, 1],\n",
       "       [5, 1, 2, 1],\n",
       "       [0, 0, 2, 0]])"
      ]
     },
     "execution_count": 436,
     "metadata": {},
     "output_type": "execute_result"
    }
   ],
   "source": [
    "data = data_.as_matrix().copy()\n",
    "shuffle(data)\n",
    "\n",
    "p = 0.8\n",
    "train = data[:int(len(data) * p), :]\n",
    "test = data[int(len(data) * p):, :]\n",
    "data"
   ]
  },
  {
   "cell_type": "code",
   "execution_count": 437,
   "metadata": {},
   "outputs": [
    {
     "data": {
      "text/plain": [
       "MultinomialNB(alpha=1.0, class_prior=None, fit_prior=True)"
      ]
     },
     "execution_count": 437,
     "metadata": {},
     "output_type": "execute_result"
    }
   ],
   "source": [
    "from sklearn.naive_bayes import MultinomialNB\n",
    "\n",
    "# 构建并训练数据\n",
    "NB = MultinomialNB()\n",
    "NB.fit(train[:, :3], train[:, 3])"
   ]
  },
  {
   "cell_type": "code",
   "execution_count": 438,
   "metadata": {},
   "outputs": [
    {
     "data": {
      "text/plain": [
       "array([0, 0, 0, 0, 0, 0, 0, 0, 0, 0, 0, 0, 0, 0, 0, 0, 0, 0, 0, 0, 0, 0,\n",
       "       0, 0, 0, 0, 0, 0, 0, 0, 0, 0, 0, 0, 0, 0, 0, 0, 0, 0, 0, 0, 0, 0,\n",
       "       0, 0, 0, 0, 0, 0, 0, 0, 0, 0, 0, 0, 0, 0, 0])"
      ]
     },
     "execution_count": 438,
     "metadata": {},
     "output_type": "execute_result"
    }
   ],
   "source": [
    "# 直接预测\n",
    "predict_result = NB.predict(test[:, :3])\n",
    "predict_result"
   ]
  },
  {
   "cell_type": "code",
   "execution_count": 439,
   "metadata": {},
   "outputs": [
    {
     "data": {
      "text/plain": [
       "array([[0.6719, 0.3281],\n",
       "       [0.6724, 0.3276],\n",
       "       [0.6621, 0.3379],\n",
       "       [0.6724, 0.3276],\n",
       "       [0.7006, 0.2994],\n",
       "       [0.666 , 0.334 ],\n",
       "       [0.6724, 0.3276],\n",
       "       [0.6885, 0.3115],\n",
       "       [0.6582, 0.3418],\n",
       "       [0.6923, 0.3077],\n",
       "       [0.6368, 0.3632],\n",
       "       [0.7159, 0.2841],\n",
       "       [0.6621, 0.3379],\n",
       "       [0.6704, 0.3296],\n",
       "       [0.6747, 0.3253],\n",
       "       [0.6681, 0.3319],\n",
       "       [0.6704, 0.3296],\n",
       "       [0.6408, 0.3592],\n",
       "       [0.6927, 0.3073],\n",
       "       [0.6453, 0.3547],\n",
       "       [0.6923, 0.3077],\n",
       "       [0.6767, 0.3233],\n",
       "       [0.6681, 0.3319],\n",
       "       [0.6327, 0.3673],\n",
       "       [0.7006, 0.2994],\n",
       "       [0.6865, 0.3135],\n",
       "       [0.6408, 0.3592],\n",
       "       [0.6493, 0.3507],\n",
       "       [0.6317, 0.3683],\n",
       "       [0.7001, 0.2999],\n",
       "       [0.7083, 0.2917],\n",
       "       [0.7119, 0.2881],\n",
       "       [0.6621, 0.3379],\n",
       "       [0.7119, 0.2881],\n",
       "       [0.6724, 0.3276],\n",
       "       [0.7001, 0.2999],\n",
       "       [0.6538, 0.3462],\n",
       "       [0.6704, 0.3296],\n",
       "       [0.6927, 0.3073],\n",
       "       [0.7018, 0.2982],\n",
       "       [0.6927, 0.3073],\n",
       "       [0.6322, 0.3678],\n",
       "       [0.6621, 0.3379],\n",
       "       [0.6986, 0.3014],\n",
       "       [0.6762, 0.3238],\n",
       "       [0.6322, 0.3678],\n",
       "       [0.6724, 0.3276],\n",
       "       [0.7006, 0.2994],\n",
       "       [0.6538, 0.3462],\n",
       "       [0.6964, 0.3036],\n",
       "       [0.6368, 0.3632],\n",
       "       [0.6923, 0.3077],\n",
       "       [0.6724, 0.3276],\n",
       "       [0.6843, 0.3157],\n",
       "       [0.6582, 0.3418],\n",
       "       [0.6767, 0.3233],\n",
       "       [0.6453, 0.3547],\n",
       "       [0.666 , 0.334 ],\n",
       "       [0.6681, 0.3319]])"
      ]
     },
     "execution_count": 439,
     "metadata": {},
     "output_type": "execute_result"
    }
   ],
   "source": [
    "# 直接给出预测结果(就是可能性概率 > 0.5 认为类标为正)\n",
    "predict_proba_result = NB.predict_proba(test[:, :3])\n",
    "predict_proba_result"
   ]
  },
  {
   "cell_type": "code",
   "execution_count": 440,
   "metadata": {},
   "outputs": [
    {
     "data": {
      "text/plain": [
       "0.864406779661017"
      ]
     },
     "execution_count": 440,
     "metadata": {},
     "output_type": "execute_result"
    }
   ],
   "source": [
    "# 准确率\n",
    "accuracy = NB.score(test[:, :3], test[:,3])\n",
    "accuracy"
   ]
  },
  {
   "cell_type": "markdown",
   "metadata": {},
   "source": [
    "## 结果可视化"
   ]
  },
  {
   "cell_type": "code",
   "execution_count": 441,
   "metadata": {},
   "outputs": [],
   "source": [
    "from sklearn.metrics import roc_curve\n",
    "from sklearn import metrics\n",
    "fpr, tpr, thresholds = roc_curve(\n",
    "    test[:, 3], \n",
    "    NB.predict_proba(test[:,:3])[:, 1],\n",
    "    pos_label=1\n",
    ")\n",
    "auc = metrics.auc(fpr, tpr)"
   ]
  },
  {
   "cell_type": "code",
   "execution_count": 443,
   "metadata": {},
   "outputs": [
    {
     "data": {
      "image/png": "[encoded data removed]",
      "text/plain": [
       "<Figure size 720x432 with 1 Axes>"
      ]
     },
     "metadata": {
      "needs_background": "light"
     },
     "output_type": "display_data"
    }
   ],
   "source": [
    "plt.plot(fpr, tpr, linewidth=2, label='ROC(area = %0.2f)' % auc, color='green')\n",
    "plt.xlabel('Fail Positive Rate')\n",
    "plt.ylabel('Ture Positive Rate')\n",
    "plt.xlim(0, 1.05)\n",
    "plt.ylim(0, 1.05)\n",
    "plt.legend(loc=4)\n",
    "plt.show()"
   ]
  },
  {
   "cell_type": "markdown",
   "metadata": {},
   "source": [
    "# 神经网络模型"
   ]
  },
  {
   "cell_type": "code",
   "execution_count": 19,
   "metadata": {},
   "outputs": [
    {
     "data": {
      "text/plain": [
       "array([[4, 1, 1, 1],\n",
       "       [4, 0, 4, 1],\n",
       "       [4, 0, 4, 1],\n",
       "       ...,\n",
       "       [3, 0, 1, 0],\n",
       "       [0, 0, 3, 0],\n",
       "       [9, 0, 0, 0]])"
      ]
     },
     "execution_count": 19,
     "metadata": {},
     "output_type": "execute_result"
    }
   ],
   "source": [
    "data = data_.as_matrix().copy()\n",
    "shuffle(data)\n",
    "\n",
    "p = 0.8\n",
    "train = data[:int(len(data) * p), :]\n",
    "test = data[int(len(data) * p):, :]\n",
    "data"
   ]
  },
  {
   "cell_type": "code",
   "execution_count": 22,
   "metadata": {},
   "outputs": [],
   "source": [
    "# 构建LM神经网络模型\n",
    "from keras.models import Sequential\n",
    "from keras.layers.core import Dense, Activation\n",
    "\n",
    "net_file = 'data/output/net.model'\n",
    "\n",
    "net = Sequential() #建立神经网络\n",
    "net.add(Dense(input_dim=3, units=10)) #添加输入层(3节点)到隐藏层(10节点)的连接\n",
    "net.add(Activation('relu'))# 隐藏层使用relu激活函数\n",
    "net.add(Dense(input_dim=10, units=1)) #添加隐藏层(10节点)到输出层(1节点)的连接\n",
    "net.add(Activation('sigmoid')) #输出层使用sigmoid激活函数\n",
    "net.compile(loss='binary_crossentropy', optimizer='adam', metrics=['accuracy']) #编译模型， 使用adam方法求解"
   ]
  },
  {
   "cell_type": "code",
   "execution_count": 23,
   "metadata": {},
   "outputs": [
    {
     "name": "stdout",
     "output_type": "stream",
     "text": [
      "Epoch 1/100\n",
      "232/232 [==============================] - 1s 5ms/step - loss: 0.8945 - acc: 0.4612\n",
      "Epoch 2/100\n",
      "232/232 [==============================] - 0s 2ms/step - loss: 0.6817 - acc: 0.5560\n",
      "Epoch 3/100\n",
      "232/232 [==============================] - 0s 2ms/step - loss: 0.6328 - acc: 0.6940\n",
      "Epoch 4/100\n",
      "232/232 [==============================] - 0s 2ms/step - loss: 0.5985 - acc: 0.8233\n",
      "Epoch 5/100\n",
      "232/232 [==============================] - 0s 2ms/step - loss: 0.5668 - acc: 0.8793\n",
      "Epoch 6/100\n",
      "232/232 [==============================] - 0s 2ms/step - loss: 0.5397 - acc: 0.8879\n",
      "Epoch 7/100\n",
      "232/232 [==============================] - 0s 2ms/step - loss: 0.5145 - acc: 0.9310\n",
      "Epoch 8/100\n",
      "232/232 [==============================] - 0s 2ms/step - loss: 0.4901 - acc: 0.9181\n",
      "Epoch 9/100\n",
      "232/232 [==============================] - 0s 2ms/step - loss: 0.4707 - acc: 0.9009\n",
      "Epoch 10/100\n",
      "232/232 [==============================] - 0s 2ms/step - loss: 0.4524 - acc: 0.9397\n",
      "Epoch 11/100\n",
      "232/232 [==============================] - 0s 2ms/step - loss: 0.4341 - acc: 0.9310\n",
      "Epoch 12/100\n",
      "232/232 [==============================] - 0s 2ms/step - loss: 0.4163 - acc: 0.9138\n",
      "Epoch 13/100\n",
      "232/232 [==============================] - 0s 2ms/step - loss: 0.4013 - acc: 0.9052\n",
      "Epoch 14/100\n",
      "232/232 [==============================] - 0s 2ms/step - loss: 0.3872 - acc: 0.9181\n",
      "Epoch 15/100\n",
      "232/232 [==============================] - 0s 2ms/step - loss: 0.3760 - acc: 0.9353\n",
      "Epoch 16/100\n",
      "232/232 [==============================] - 0s 2ms/step - loss: 0.3624 - acc: 0.9397\n",
      "Epoch 17/100\n",
      "232/232 [==============================] - 0s 2ms/step - loss: 0.3502 - acc: 0.9440\n",
      "Epoch 18/100\n",
      "232/232 [==============================] - 0s 2ms/step - loss: 0.3417 - acc: 0.9353\n",
      "Epoch 19/100\n",
      "232/232 [==============================] - 0s 2ms/step - loss: 0.3310 - acc: 0.9397\n",
      "Epoch 20/100\n",
      "232/232 [==============================] - 0s 2ms/step - loss: 0.3224 - acc: 0.9353\n",
      "Epoch 21/100\n",
      "232/232 [==============================] - 0s 2ms/step - loss: 0.3148 - acc: 0.9440\n",
      "Epoch 22/100\n",
      "232/232 [==============================] - 0s 2ms/step - loss: 0.3077 - acc: 0.9267\n",
      "Epoch 23/100\n",
      "232/232 [==============================] - 0s 2ms/step - loss: 0.3018 - acc: 0.9397\n",
      "Epoch 24/100\n",
      "232/232 [==============================] - 0s 2ms/step - loss: 0.2976 - acc: 0.9483\n",
      "Epoch 25/100\n",
      "232/232 [==============================] - 0s 2ms/step - loss: 0.2894 - acc: 0.9353\n",
      "Epoch 26/100\n",
      "232/232 [==============================] - 0s 2ms/step - loss: 0.2846 - acc: 0.9483\n",
      "Epoch 27/100\n",
      "232/232 [==============================] - 0s 2ms/step - loss: 0.2805 - acc: 0.9397\n",
      "Epoch 28/100\n",
      "232/232 [==============================] - 0s 2ms/step - loss: 0.2743 - acc: 0.9353\n",
      "Epoch 29/100\n",
      "232/232 [==============================] - 0s 2ms/step - loss: 0.2729 - acc: 0.9526\n",
      "Epoch 30/100\n",
      "232/232 [==============================] - 0s 2ms/step - loss: 0.2656 - acc: 0.9526\n",
      "Epoch 31/100\n",
      "232/232 [==============================] - 0s 2ms/step - loss: 0.2656 - acc: 0.9526\n",
      "Epoch 32/100\n",
      "232/232 [==============================] - 0s 2ms/step - loss: 0.2610 - acc: 0.9483\n",
      "Epoch 33/100\n",
      "232/232 [==============================] - 0s 2ms/step - loss: 0.2576 - acc: 0.9483\n",
      "Epoch 34/100\n",
      "232/232 [==============================] - 0s 2ms/step - loss: 0.2539 - acc: 0.9526\n",
      "Epoch 35/100\n",
      "232/232 [==============================] - 0s 2ms/step - loss: 0.2507 - acc: 0.9483\n",
      "Epoch 36/100\n",
      "232/232 [==============================] - 0s 2ms/step - loss: 0.2489 - acc: 0.9440\n",
      "Epoch 37/100\n",
      "232/232 [==============================] - 0s 2ms/step - loss: 0.2444 - acc: 0.9483\n",
      "Epoch 38/100\n",
      "232/232 [==============================] - 0s 2ms/step - loss: 0.2458 - acc: 0.9526\n",
      "Epoch 39/100\n",
      "232/232 [==============================] - 0s 2ms/step - loss: 0.2392 - acc: 0.9526\n",
      "Epoch 40/100\n",
      "232/232 [==============================] - 0s 2ms/step - loss: 0.2383 - acc: 0.9526\n",
      "Epoch 41/100\n",
      "232/232 [==============================] - 0s 2ms/step - loss: 0.2390 - acc: 0.9526\n",
      "Epoch 42/100\n",
      "232/232 [==============================] - 0s 2ms/step - loss: 0.2379 - acc: 0.9526\n",
      "Epoch 43/100\n",
      "232/232 [==============================] - 0s 2ms/step - loss: 0.2330 - acc: 0.9526\n",
      "Epoch 44/100\n",
      "232/232 [==============================] - 0s 2ms/step - loss: 0.2321 - acc: 0.9526\n",
      "Epoch 45/100\n",
      "232/232 [==============================] - 0s 2ms/step - loss: 0.2283 - acc: 0.9526\n",
      "Epoch 46/100\n",
      "232/232 [==============================] - 0s 2ms/step - loss: 0.2302 - acc: 0.9526\n",
      "Epoch 47/100\n",
      "232/232 [==============================] - 0s 2ms/step - loss: 0.2270 - acc: 0.9526\n",
      "Epoch 48/100\n",
      "232/232 [==============================] - 0s 2ms/step - loss: 0.2270 - acc: 0.9526\n",
      "Epoch 49/100\n",
      "232/232 [==============================] - 0s 2ms/step - loss: 0.2235 - acc: 0.9526\n",
      "Epoch 50/100\n",
      "232/232 [==============================] - 0s 2ms/step - loss: 0.2218 - acc: 0.9526\n",
      "Epoch 51/100\n",
      "232/232 [==============================] - 0s 2ms/step - loss: 0.2211 - acc: 0.9526\n",
      "Epoch 52/100\n",
      "232/232 [==============================] - 0s 2ms/step - loss: 0.2219 - acc: 0.9526\n",
      "Epoch 53/100\n",
      "232/232 [==============================] - 0s 2ms/step - loss: 0.2200 - acc: 0.9526\n",
      "Epoch 54/100\n",
      "232/232 [==============================] - 0s 2ms/step - loss: 0.2176 - acc: 0.9526\n",
      "Epoch 55/100\n",
      "232/232 [==============================] - 0s 2ms/step - loss: 0.2154 - acc: 0.9526\n",
      "Epoch 56/100\n",
      "232/232 [==============================] - 0s 2ms/step - loss: 0.2177 - acc: 0.9526\n",
      "Epoch 57/100\n",
      "232/232 [==============================] - 0s 2ms/step - loss: 0.2161 - acc: 0.9526\n",
      "Epoch 58/100\n",
      "232/232 [==============================] - 0s 2ms/step - loss: 0.2129 - acc: 0.9526\n",
      "Epoch 59/100\n",
      "232/232 [==============================] - 0s 2ms/step - loss: 0.2153 - acc: 0.9526\n",
      "Epoch 60/100\n",
      "232/232 [==============================] - 0s 2ms/step - loss: 0.2114 - acc: 0.9526\n",
      "Epoch 61/100\n",
      "232/232 [==============================] - 0s 2ms/step - loss: 0.2118 - acc: 0.9526\n",
      "Epoch 62/100\n",
      "232/232 [==============================] - 0s 2ms/step - loss: 0.2112 - acc: 0.9526\n",
      "Epoch 63/100\n",
      "232/232 [==============================] - 0s 2ms/step - loss: 0.2103 - acc: 0.9526\n",
      "Epoch 64/100\n",
      "232/232 [==============================] - 0s 2ms/step - loss: 0.2109 - acc: 0.9526\n",
      "Epoch 65/100\n",
      "232/232 [==============================] - 0s 2ms/step - loss: 0.2074 - acc: 0.9526\n",
      "Epoch 66/100\n",
      "232/232 [==============================] - 0s 2ms/step - loss: 0.2096 - acc: 0.9526\n",
      "Epoch 67/100\n",
      "232/232 [==============================] - 0s 2ms/step - loss: 0.2084 - acc: 0.9526\n",
      "Epoch 68/100\n",
      "232/232 [==============================] - 0s 2ms/step - loss: 0.2080 - acc: 0.9526\n",
      "Epoch 69/100\n",
      "232/232 [==============================] - 0s 2ms/step - loss: 0.2064 - acc: 0.9526\n",
      "Epoch 70/100\n",
      "232/232 [==============================] - 0s 2ms/step - loss: 0.2059 - acc: 0.9526\n",
      "Epoch 71/100\n",
      "232/232 [==============================] - 0s 2ms/step - loss: 0.2071 - acc: 0.9526\n",
      "Epoch 72/100\n",
      "232/232 [==============================] - 0s 2ms/step - loss: 0.2064 - acc: 0.9526\n",
      "Epoch 73/100\n",
      "232/232 [==============================] - 0s 2ms/step - loss: 0.2049 - acc: 0.9526\n",
      "Epoch 74/100\n",
      "232/232 [==============================] - 0s 2ms/step - loss: 0.2043 - acc: 0.9526\n",
      "Epoch 75/100\n",
      "232/232 [==============================] - 0s 2ms/step - loss: 0.2037 - acc: 0.9526\n",
      "Epoch 76/100\n",
      "232/232 [==============================] - 0s 2ms/step - loss: 0.2027 - acc: 0.9526\n",
      "Epoch 77/100\n",
      "232/232 [==============================] - 0s 2ms/step - loss: 0.2024 - acc: 0.9526\n",
      "Epoch 78/100\n",
      "232/232 [==============================] - 0s 2ms/step - loss: 0.2026 - acc: 0.9526\n",
      "Epoch 79/100\n",
      "232/232 [==============================] - 0s 2ms/step - loss: 0.2042 - acc: 0.9526\n",
      "Epoch 80/100\n",
      "232/232 [==============================] - 0s 2ms/step - loss: 0.2042 - acc: 0.9526\n",
      "Epoch 81/100\n",
      "232/232 [==============================] - 0s 2ms/step - loss: 0.2047 - acc: 0.9526\n",
      "Epoch 82/100\n",
      "232/232 [==============================] - 0s 2ms/step - loss: 0.2022 - acc: 0.9526\n",
      "Epoch 83/100\n",
      "232/232 [==============================] - 0s 2ms/step - loss: 0.2010 - acc: 0.9526\n",
      "Epoch 84/100\n",
      "232/232 [==============================] - 0s 2ms/step - loss: 0.2058 - acc: 0.9526\n",
      "Epoch 85/100\n"
     ]
    },
    {
     "name": "stdout",
     "output_type": "stream",
     "text": [
      "232/232 [==============================] - 0s 2ms/step - loss: 0.2000 - acc: 0.9526\n",
      "Epoch 86/100\n",
      "232/232 [==============================] - 0s 2ms/step - loss: 0.2013 - acc: 0.9526\n",
      "Epoch 87/100\n",
      "232/232 [==============================] - 0s 2ms/step - loss: 0.2038 - acc: 0.9526\n",
      "Epoch 88/100\n",
      "232/232 [==============================] - 0s 2ms/step - loss: 0.2032 - acc: 0.9526\n",
      "Epoch 89/100\n",
      "232/232 [==============================] - 0s 2ms/step - loss: 0.2008 - acc: 0.9526\n",
      "Epoch 90/100\n",
      "232/232 [==============================] - 0s 2ms/step - loss: 0.2006 - acc: 0.9526\n",
      "Epoch 91/100\n",
      "232/232 [==============================] - 0s 2ms/step - loss: 0.1975 - acc: 0.9526\n",
      "Epoch 92/100\n",
      "232/232 [==============================] - 0s 2ms/step - loss: 0.1995 - acc: 0.9483\n",
      "Epoch 93/100\n",
      "232/232 [==============================] - 0s 2ms/step - loss: 0.2002 - acc: 0.9526\n",
      "Epoch 94/100\n",
      "232/232 [==============================] - 0s 2ms/step - loss: 0.1985 - acc: 0.9526\n",
      "Epoch 95/100\n",
      "232/232 [==============================] - 0s 2ms/step - loss: 0.2005 - acc: 0.9526\n",
      "Epoch 96/100\n",
      "232/232 [==============================] - 0s 2ms/step - loss: 0.1977 - acc: 0.9526\n",
      "Epoch 97/100\n",
      "232/232 [==============================] - 0s 2ms/step - loss: 0.1965 - acc: 0.9526\n",
      "Epoch 98/100\n",
      "232/232 [==============================] - 0s 2ms/step - loss: 0.1991 - acc: 0.9526\n",
      "Epoch 99/100\n",
      "232/232 [==============================] - 0s 2ms/step - loss: 0.1980 - acc: 0.9526\n",
      "Epoch 100/100\n",
      "232/232 [==============================] - 0s 2ms/step - loss: 0.1974 - acc: 0.9526\n"
     ]
    }
   ],
   "source": [
    "net.fit(\n",
    "    train[:, :3],\n",
    "    train[:, 3],\n",
    "    epochs=100,\n",
    "    batch_size=1\n",
    ") #训练模型， 循环100次\n",
    "net.save_weights(net_file) # 保存模型\n",
    "predict_result = net.predict_classes(train[:, :3]).reshape(len(train)) #预测结果变形"
   ]
  },
  {
   "cell_type": "code",
   "execution_count": 24,
   "metadata": {},
   "outputs": [
    {
     "data": {
      "text/plain": [
       "array([6.8516e-02, 2.3374e-03, 1.0655e-02, 4.6263e-03, 9.2222e-01,\n",
       "       8.1151e-02, 2.0765e-01, 9.9994e-01, 9.6120e-01, 2.1676e-02,\n",
       "       3.7713e-03, 6.8516e-02, 1.5727e-01, 2.6327e-01, 3.7713e-03,\n",
       "       9.9422e-01, 9.4039e-01, 3.8804e-03, 1.1446e-01, 5.0447e-03,\n",
       "       8.7127e-04, 1.1739e-04, 3.7713e-03, 1.0000e+00, 2.0141e-01,\n",
       "       9.4039e-01, 8.7864e-01, 2.0765e-01, 4.6263e-03, 8.9604e-01,\n",
       "       1.1739e-04, 1.1446e-01, 2.7375e-01, 9.8390e-01, 9.4039e-01,\n",
       "       1.0655e-02, 2.8121e-02, 4.6263e-03, 8.7127e-04, 9.4039e-01,\n",
       "       9.9916e-01, 6.4356e-03, 9.2222e-01, 9.6120e-01, 3.8804e-03,\n",
       "       2.0621e-01, 5.0447e-03, 5.9289e-01, 8.9604e-01, 1.1739e-04,\n",
       "       2.0765e-01, 3.6296e-03, 9.8462e-01, 1.0655e-02, 1.9318e-01,\n",
       "       3.8804e-03, 1.0655e-02, 5.2420e-04, 2.1676e-02], dtype=float32)"
      ]
     },
     "execution_count": 24,
     "metadata": {},
     "output_type": "execute_result"
    }
   ],
   "source": [
    "predict_result = net.predict(test[:, :3]).reshape(len(test))\n",
    "predict_result"
   ]
  },
  {
   "cell_type": "code",
   "execution_count": 26,
   "metadata": {},
   "outputs": [],
   "source": [
    "from sklearn.metrics import roc_curve\n",
    "from sklearn import metrics\n",
    "fpr, tpr, thresholds = roc_curve(\n",
    "    test[:, 3], \n",
    "    predict_result,\n",
    "    pos_label=1\n",
    ")\n",
    "auc = metrics.auc(fpr, tpr)"
   ]
  },
  {
   "cell_type": "code",
   "execution_count": 27,
   "metadata": {},
   "outputs": [
    {
     "data": {
      "image/png": "[encoded data removed]",
      "text/plain": [
       "<Figure size 720x432 with 1 Axes>"
      ]
     },
     "metadata": {
      "needs_background": "light"
     },
     "output_type": "display_data"
    }
   ],
   "source": [
    "plt.plot(fpr, tpr, linewidth=2, label='ROC(area = %0.2f)' % auc, color='green')\n",
    "plt.xlabel('Fail Positive Rate')\n",
    "plt.ylabel('Ture Positive Rate')\n",
    "plt.xlim(0, 1.05)\n",
    "plt.ylim(0, 1.05)\n",
    "plt.legend(loc=4)\n",
    "plt.show()"
   ]
  },
  {
   "cell_type": "code",
   "execution_count": null,
   "metadata": {},
   "outputs": [],
   "source": []
  },
  {
   "cell_type": "code",
   "execution_count": null,
   "metadata": {},
   "outputs": [],
   "source": []
  }
 ],
 "metadata": {
  "kernelspec": {
   "display_name": "DataMining",
   "language": "python",
   "name": "datamining"
  },
  "language_info": {
   "codemirror_mode": {
    "name": "ipython",
    "version": 3
   },
   "file_extension": ".py",
   "mimetype": "text/x-python",
   "name": "python",
   "nbconvert_exporter": "python",
   "pygments_lexer": "ipython3",
   "version": "3.7.5"
  },
  "toc": {
   "base_numbering": 1,
   "nav_menu": {},
   "number_sections": true,
   "sideBar": true,
   "skip_h1_title": false,
   "title_cell": "Table of Contents",
   "title_sidebar": "Contents",
   "toc_cell": false,
   "toc_position": {},
   "toc_section_display": true,
   "toc_window_display": false
  }
 },
 "nbformat": 4,
 "nbformat_minor": 2
}
