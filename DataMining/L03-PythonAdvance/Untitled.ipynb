{
 "cells": [
  {
   "cell_type": "code",
   "execution_count": 1,
   "metadata": {},
   "outputs": [
    {
     "name": "stdout",
     "output_type": "stream",
     "text": [
      "Looking in indexes: http://mirrors.aliyun.com/pypi/simple/\n",
      "Collecting statsmodels\n",
      "\u001b[?25l  Downloading http://mirrors.aliyun.com/pypi/packages/a6/32/5f8cff131e678a73b8f390ff7d8a04d502ed45e379378a0c5b9c25175239/statsmodels-0.10.2-cp37-cp37m-manylinux1_x86_64.whl (8.1MB)\n",
      "\u001b[K     |████████████████████████████████| 8.1MB 4.0MB/s eta 0:00:01  |████████▉                       | 2.3MB 4.0MB/s eta 0:00:02██████▏              | 4.3MB 4.0MB/s eta 0:00:01B/s eta 0:00:01██████████████████████████████▋| 8.0MB 4.0MB/s eta 0:00:01\n",
      "\u001b[?25hRequirement already satisfied: scipy>=0.18 in ./anaconda3/envs/DataMining/lib/python3.7/site-packages (from statsmodels) (1.4.1)\n",
      "Collecting patsy>=0.4.0\n",
      "\u001b[?25l  Downloading http://mirrors.aliyun.com/pypi/packages/ea/0c/5f61f1a3d4385d6bf83b83ea495068857ff8dfb89e74824c6e9eb63286d8/patsy-0.5.1-py2.py3-none-any.whl (231kB)\n",
      "\u001b[K     |████████████████████████████████| 235kB 55.8MB/s eta 0:00:01\n",
      "\u001b[?25hRequirement already satisfied: numpy>=1.11 in ./anaconda3/envs/DataMining/lib/python3.7/site-packages (from statsmodels) (1.18.0)\n",
      "Requirement already satisfied: pandas>=0.19 in ./anaconda3/envs/DataMining/lib/python3.7/site-packages (from statsmodels) (0.25.3)\n",
      "Requirement already satisfied: six in ./anaconda3/envs/DataMining/lib/python3.7/site-packages (from patsy>=0.4.0->statsmodels) (1.13.0)\n",
      "Requirement already satisfied: pytz>=2017.2 in ./anaconda3/envs/DataMining/lib/python3.7/site-packages (from pandas>=0.19->statsmodels) (2019.3)\n",
      "Requirement already satisfied: python-dateutil>=2.6.1 in ./anaconda3/envs/DataMining/lib/python3.7/site-packages (from pandas>=0.19->statsmodels) (2.8.1)\n",
      "Installing collected packages: patsy, statsmodels\n",
      "Successfully installed patsy-0.5.1 statsmodels-0.10.2\n",
      "Note: you may need to restart the kernel to use updated packages.\n"
     ]
    }
   ],
   "source": [
    "%pip install statsmodels"
   ]
  },
  {
   "cell_type": "code",
   "execution_count": 54,
   "metadata": {
    "cell_style": "center"
   },
   "outputs": [
    {
     "name": "stdout",
     "output_type": "stream",
     "text": [
      "[[1 2 3]\n",
      " [1 2 3]\n",
      " [7 8 9]]\n",
      "4.0 4.0\n",
      "36 36\n",
      "2.943920288775949 2.943920288775949\n",
      "0 8\n"
     ]
    }
   ],
   "source": [
    "# 并生成正态分布的二维数组5*4\n",
    "import numpy as np\n",
    "arr= np.array([[1,2,3],\n",
    "               [1,2,3],\n",
    "               [7,8,9]])# normally-distributed data \n",
    "print(arr)\n",
    "print(arr.mean(), np.mean(arr))# 算术平均\n",
    "print(arr.sum(), np.sum(arr))# 求和\n",
    "print(arr.std(), np.std(arr))#标准差\n",
    "print(arr.argmin(), arr.argmax())#最大最小值索引"
   ]
  },
  {
   "cell_type": "code",
   "execution_count": 54,
   "metadata": {},
   "outputs": [
    {
     "name": "stdout",
     "output_type": "stream",
     "text": [
      "[1 2 3]\n",
      "[1 1 7]\n",
      "[ 9 12 15]\n",
      "[3. 4. 5.]\n",
      "[ 6  6 24]\n",
      "[[ 1  2  3]\n",
      " [ 2  4  6]\n",
      " [ 9 12 15]]\n",
      "[[ 1  2  3]\n",
      " [ 1  4  9]\n",
      " [ 7 32 81]]\n"
     ]
    }
   ],
   "source": [
    "print(arr[0])\n",
    "print(arr[:,0])\n",
    "print(arr.sum(0))# 求第一维(列和)\n",
    "print(arr.mean(0))\n",
    "print(arr.sum(1))\n",
    "print(arr.cumsum(0))# 列元素累计和\n",
    "print(arr.cumprod(0))# 列元素累乘"
   ]
  },
  {
   "cell_type": "code",
   "execution_count": 5,
   "metadata": {},
   "outputs": [
    {
     "name": "stdout",
     "output_type": "stream",
     "text": [
      "[[ 1  4  9]\n",
      " [ 1  4  9]\n",
      " [49 64 81]]\n"
     ]
    }
   ],
   "source": [
    "import numpy as np\n",
    "a= np.array([[1,2,3],\n",
    "             [1,2,3],\n",
    "             [7,8,9]])\n",
    "print(a * a)"
   ]
  },
  {
   "cell_type": "code",
   "execution_count": 6,
   "metadata": {},
   "outputs": [],
   "source": [
    "import scipy\n",
    "from scipy import linalg\n",
    "b = a * a"
   ]
  },
  {
   "cell_type": "code",
   "execution_count": 7,
   "metadata": {},
   "outputs": [
    {
     "name": "stdout",
     "output_type": "stream",
     "text": [
      "[[ 24  30  36]\n",
      " [ 24  30  36]\n",
      " [ 78 102 126]]\n",
      "<class 'numpy.matrix'>\n"
     ]
    },
    {
     "name": "stderr",
     "output_type": "stream",
     "text": [
      "/root/anaconda3/envs/DataMining/lib/python3.7/site-packages/ipykernel_launcher.py:1: DeprecationWarning: scipy.mat is deprecated and will be removed in SciPy 2.0.0, use numpy.mat instead\n",
      "  \"\"\"Entry point for launching an IPython kernel.\n"
     ]
    }
   ],
   "source": [
    "a = scipy.mat(a)\n",
    "b = a * a\n",
    "print(b)\n",
    "print(type(b))"
   ]
  },
  {
   "cell_type": "code",
   "execution_count": 9,
   "metadata": {},
   "outputs": [
    {
     "name": "stdout",
     "output_type": "stream",
     "text": [
      "[[ 3.66666667 -1.33333333 -2.        ]\n",
      " [-2.66666667  1.          0.        ]\n",
      " [ 0.          0.          1.        ]]\n"
     ]
    },
    {
     "name": "stderr",
     "output_type": "stream",
     "text": [
      "/root/anaconda3/envs/DataMining/lib/python3.7/site-packages/ipykernel_launcher.py:5: DeprecationWarning: scipy.mat is deprecated and will be removed in SciPy 2.0.0, use numpy.mat instead\n",
      "  \"\"\"\n"
     ]
    }
   ],
   "source": [
    "import numpy as np\n",
    "import scipy\n",
    "from scipy import linalg\n",
    "a = np.array([[1, 2, 3], [4, 5, 6], [0, 0, 1]])\n",
    "ma = scipy.mat(a) * scipy.mat(a)\n",
    "mb = linalg.inv(ma)\n",
    "print(mb)"
   ]
  },
  {
   "cell_type": "code",
   "execution_count": 10,
   "metadata": {},
   "outputs": [
    {
     "data": {
      "text/plain": [
       "matrix([[1.00000000e+00, 0.00000000e+00, 0.00000000e+00],\n",
       "        [4.88498131e-15, 1.00000000e+00, 0.00000000e+00],\n",
       "        [0.00000000e+00, 0.00000000e+00, 1.00000000e+00]])"
      ]
     },
     "execution_count": 10,
     "metadata": {},
     "output_type": "execute_result"
    }
   ],
   "source": [
    "ma * mb"
   ]
  },
  {
   "cell_type": "code",
   "execution_count": 11,
   "metadata": {},
   "outputs": [
    {
     "data": {
      "text/plain": [
       "'0.22'"
      ]
     },
     "execution_count": 11,
     "metadata": {},
     "output_type": "execute_result"
    }
   ],
   "source": [
    "import sklearn\n",
    "sklearn.__version__"
   ]
  },
  {
   "cell_type": "code",
   "execution_count": 12,
   "metadata": {},
   "outputs": [
    {
     "name": "stdout",
     "output_type": "stream",
     "text": [
      "LinearRegression(copy_X=True, fit_intercept=True, n_jobs=None, normalize=False)\n"
     ]
    }
   ],
   "source": [
    "from sklearn.linear_model import LinearRegression\n",
    "model = LinearRegression()\n",
    "print(model)"
   ]
  },
  {
   "cell_type": "code",
   "execution_count": 14,
   "metadata": {},
   "outputs": [
    {
     "name": "stdout",
     "output_type": "stream",
     "text": [
      "(150, 4)\n"
     ]
    }
   ],
   "source": [
    "from sklearn import datasets\n",
    "iris = datasets.load_iris() # load data set\n",
    "print(iris.data.shape)"
   ]
  },
  {
   "cell_type": "code",
   "execution_count": 15,
   "metadata": {},
   "outputs": [
    {
     "name": "stdout",
     "output_type": "stream",
     "text": [
      "(506, 13)\n"
     ]
    }
   ],
   "source": [
    "b = datasets.load_boston()\n",
    "print(b.data.shape)"
   ]
  },
  {
   "cell_type": "code",
   "execution_count": 19,
   "metadata": {},
   "outputs": [
    {
     "name": "stdout",
     "output_type": "stream",
     "text": [
      "[[5.1 3.5 1.4 0.2]\n",
      " [4.9 3.  1.4 0.2]\n",
      " [4.7 3.2 1.3 0.2]\n",
      " [4.6 3.1 1.5 0.2]\n",
      " [5.  3.6 1.4 0.2]\n",
      " [5.4 3.9 1.7 0.4]\n",
      " [4.6 3.4 1.4 0.3]\n",
      " [5.  3.4 1.5 0.2]\n",
      " [4.4 2.9 1.4 0.2]\n",
      " [4.9 3.1 1.5 0.1]\n",
      " [5.4 3.7 1.5 0.2]\n",
      " [4.8 3.4 1.6 0.2]\n",
      " [4.8 3.  1.4 0.1]\n",
      " [4.3 3.  1.1 0.1]\n",
      " [5.8 4.  1.2 0.2]]\n"
     ]
    }
   ],
   "source": [
    "print(iris.data[:15])"
   ]
  },
  {
   "cell_type": "code",
   "execution_count": 24,
   "metadata": {},
   "outputs": [
    {
     "data": {
      "text/plain": [
       "array([0, 0, 0, 0, 0, 0, 0, 0, 0, 0, 0, 0, 0, 0, 0, 0, 0, 0, 0, 0, 0, 0,\n",
       "       0, 0, 0, 0, 0, 0, 0, 0, 0, 0, 0, 0, 0, 0, 0, 0, 0, 0, 0, 0, 0, 0,\n",
       "       0, 0, 0, 0, 0, 0, 1, 1, 1, 1, 1, 1, 1, 1, 1, 1, 1, 1, 1, 1, 1, 1,\n",
       "       1, 1, 1, 1, 1, 1, 1, 1, 1, 1, 1, 1, 1, 1, 1, 1, 1, 1, 1, 1, 1, 1,\n",
       "       1, 1, 1, 1, 1, 1, 1, 1, 1, 1, 1, 1, 2, 2, 2, 2, 2, 2, 2, 2, 2, 2,\n",
       "       2, 2, 2, 2, 2, 2, 2, 2, 2, 2, 2, 2, 2, 2, 2, 2, 2, 2, 2, 2, 2, 2,\n",
       "       2, 2, 2, 2, 2, 2, 2, 2, 2, 2, 2, 2, 2, 2, 2, 2, 2, 2])"
      ]
     },
     "execution_count": 24,
     "metadata": {},
     "output_type": "execute_result"
    }
   ],
   "source": [
    "iris.target[:5000]"
   ]
  },
  {
   "cell_type": "code",
   "execution_count": 28,
   "metadata": {},
   "outputs": [
    {
     "name": "stderr",
     "output_type": "stream",
     "text": [
      "/root/anaconda3/envs/DataMining/lib/python3.7/site-packages/sklearn/svm/_base.py:947: ConvergenceWarning: Liblinear failed to converge, increase the number of iterations.\n",
      "  \"the number of iterations.\", ConvergenceWarning)\n"
     ]
    },
    {
     "data": {
      "text/plain": [
       "array([[ 0.18424051,  0.45122993, -0.8079406 , -0.45071484],\n",
       "       [ 0.05602469, -0.89814113,  0.40855797, -0.96070759],\n",
       "       [-0.85071544, -0.98672207,  1.38104133,  1.86533957]])"
      ]
     },
     "execution_count": 28,
     "metadata": {},
     "output_type": "execute_result"
    }
   ],
   "source": [
    "from sklearn import svm\n",
    "clf = svm.LinearSVC()\n",
    "clf.fit(iris.data, iris.target)\n",
    "clf.coef_"
   ]
  },
  {
   "cell_type": "code",
   "execution_count": 29,
   "metadata": {},
   "outputs": [
    {
     "data": {
      "text/plain": [
       "array([0])"
      ]
     },
     "execution_count": 29,
     "metadata": {},
     "output_type": "execute_result"
    }
   ],
   "source": [
    "clf.predict([[5, 3.6, 1.3, 0.25]])"
   ]
  },
  {
   "cell_type": "code",
   "execution_count": null,
   "metadata": {},
   "outputs": [],
   "source": [
    "clf.predict([[5, 1.6, 2.3, 1.95]])"
   ]
  },
  {
   "cell_type": "code",
   "execution_count": 36,
   "metadata": {},
   "outputs": [
    {
     "name": "stdout",
     "output_type": "stream",
     "text": [
      "WARNING: The conda.compat module is deprecated and will be removed in a future release.\n",
      "Collecting package metadata: done\n",
      "Solving environment: done\n",
      "\n",
      "\n",
      "==> WARNING: A newer version of conda exists. <==\n",
      "  current version: 4.6.11\n",
      "  latest version: 4.8.0\n",
      "\n",
      "Please update conda by running\n",
      "\n",
      "    $ conda update -n base -c defaults conda\n",
      "\n",
      "\n",
      "\n",
      "## Package Plan ##\n",
      "\n",
      "  environment location: /root/anaconda3/envs/DataMining\n",
      "\n",
      "  added / updated specs:\n",
      "    - keras\n",
      "\n",
      "\n",
      "The following packages will be downloaded:\n",
      "\n",
      "    package                    |            build\n",
      "    ---------------------------|-----------------\n",
      "    _tflow_select-2.3.0        |              mkl           2 KB\n",
      "    absl-py-0.8.1              |           py37_0         161 KB\n",
      "    astor-0.8.0                |           py37_0          45 KB\n",
      "    c-ares-1.15.0              |    h7b6447c_1001         102 KB\n",
      "    gast-0.2.2                 |           py37_0         137 KB\n",
      "    google-pasta-0.1.8         |             py_0          43 KB\n",
      "    grpcio-1.16.1              |   py37hf8bcb03_1         1.0 MB\n",
      "    intel-openmp-2019.4        |              243         876 KB\n",
      "    keras-2.2.4                |                0           5 KB\n",
      "    keras-applications-1.0.8   |             py_0          33 KB\n",
      "    keras-base-2.2.4           |           py37_0         489 KB\n",
      "    keras-preprocessing-1.1.0  |             py_1          36 KB\n",
      "    libprotobuf-3.11.2         |       hd408876_0         4.8 MB\n",
      "    markdown-3.1.1             |           py37_0         113 KB\n",
      "    mkl-2019.4                 |              243       204.1 MB\n",
      "    mkl-service-2.3.0          |   py37he904b0f_0         208 KB\n",
      "    mkl_fft-1.0.15             |   py37ha843d7b_0         172 KB\n",
      "    mkl_random-1.1.0           |   py37hd6b4f25_0         376 KB\n",
      "    numpy-1.17.4               |   py37hc1035e2_0           4 KB\n",
      "    numpy-base-1.17.4          |   py37hde5b4d6_0         5.2 MB\n",
      "    opt_einsum-3.1.0           |             py_0          54 KB\n",
      "    protobuf-3.11.2            |   py37he6710b0_0         709 KB\n",
      "    pyyaml-5.2                 |   py37h7b6447c_0         190 KB\n",
      "    scipy-1.3.2                |   py37h7c811a0_0        18.1 MB\n",
      "    tensorboard-1.15.0         |     pyhb230dea_0         3.3 MB\n",
      "    tensorflow-1.15.0          |mkl_py37h28c19af_0           4 KB\n",
      "    tensorflow-base-1.15.0     |mkl_py37he1670d9_0       119.2 MB\n",
      "    tensorflow-estimator-1.15.1|     pyh2649769_0         300 KB\n",
      "    termcolor-1.1.0            |           py37_1           7 KB\n",
      "    werkzeug-0.16.0            |             py_0         255 KB\n",
      "    wrapt-1.11.2               |   py37h7b6447c_0          49 KB\n",
      "    ------------------------------------------------------------\n",
      "                                           Total:       360.1 MB\n",
      "\n",
      "The following NEW packages will be INSTALLED:\n",
      "\n",
      "  _tflow_select      pkgs/main/linux-64::_tflow_select-2.3.0-mkl\n",
      "  absl-py            pkgs/main/linux-64::absl-py-0.8.1-py37_0\n",
      "  astor              pkgs/main/linux-64::astor-0.8.0-py37_0\n",
      "  blas               pkgs/main/linux-64::blas-1.0-mkl\n",
      "  c-ares             pkgs/main/linux-64::c-ares-1.15.0-h7b6447c_1001\n",
      "  gast               pkgs/main/linux-64::gast-0.2.2-py37_0\n",
      "  google-pasta       pkgs/main/noarch::google-pasta-0.1.8-py_0\n",
      "  grpcio             pkgs/main/linux-64::grpcio-1.16.1-py37hf8bcb03_1\n",
      "  h5py               pkgs/main/linux-64::h5py-2.9.0-py37h7918eee_0\n",
      "  hdf5               pkgs/main/linux-64::hdf5-1.10.4-hb1b8bf9_0\n",
      "  intel-openmp       pkgs/main/linux-64::intel-openmp-2019.4-243\n",
      "  keras              pkgs/main/linux-64::keras-2.2.4-0\n",
      "  keras-applications pkgs/main/noarch::keras-applications-1.0.8-py_0\n",
      "  keras-base         pkgs/main/linux-64::keras-base-2.2.4-py37_0\n",
      "  keras-preprocessi~ pkgs/main/noarch::keras-preprocessing-1.1.0-py_1\n",
      "  libgfortran-ng     pkgs/main/linux-64::libgfortran-ng-7.3.0-hdf63c60_0\n",
      "  libprotobuf        pkgs/main/linux-64::libprotobuf-3.11.2-hd408876_0\n",
      "  markdown           pkgs/main/linux-64::markdown-3.1.1-py37_0\n",
      "  mkl                pkgs/main/linux-64::mkl-2019.4-243\n",
      "  mkl-service        pkgs/main/linux-64::mkl-service-2.3.0-py37he904b0f_0\n",
      "  mkl_fft            pkgs/main/linux-64::mkl_fft-1.0.15-py37ha843d7b_0\n",
      "  mkl_random         pkgs/main/linux-64::mkl_random-1.1.0-py37hd6b4f25_0\n",
      "  numpy              pkgs/main/linux-64::numpy-1.17.4-py37hc1035e2_0\n",
      "  numpy-base         pkgs/main/linux-64::numpy-base-1.17.4-py37hde5b4d6_0\n",
      "  opt_einsum         pkgs/main/noarch::opt_einsum-3.1.0-py_0\n",
      "  protobuf           pkgs/main/linux-64::protobuf-3.11.2-py37he6710b0_0\n",
      "  pyyaml             pkgs/main/linux-64::pyyaml-5.2-py37h7b6447c_0\n",
      "  scipy              pkgs/main/linux-64::scipy-1.3.2-py37h7c811a0_0\n",
      "  six                pkgs/main/linux-64::six-1.13.0-py37_0\n",
      "  tensorboard        pkgs/main/noarch::tensorboard-1.15.0-pyhb230dea_0\n",
      "  tensorflow         pkgs/main/linux-64::tensorflow-1.15.0-mkl_py37h28c19af_0\n",
      "  tensorflow-base    pkgs/main/linux-64::tensorflow-base-1.15.0-mkl_py37he1670d9_0\n",
      "  tensorflow-estima~ pkgs/main/noarch::tensorflow-estimator-1.15.1-pyh2649769_0\n",
      "  termcolor          pkgs/main/linux-64::termcolor-1.1.0-py37_1\n",
      "  webencodings       pkgs/main/linux-64::webencodings-0.5.1-py37_1\n",
      "  werkzeug           pkgs/main/noarch::werkzeug-0.16.0-py_0\n",
      "  wrapt              pkgs/main/linux-64::wrapt-1.11.2-py37h7b6447c_0\n",
      "  yaml               pkgs/main/linux-64::yaml-0.1.7-had09818_2\n",
      "\n",
      "\n",
      "\n",
      "Downloading and Extracting Packages\n",
      "c-ares-1.15.0        | 102 KB    | ##################################### | 100% \n",
      "mkl_random-1.1.0     | 376 KB    | ##################################### | 100% \n",
      "keras-preprocessing- | 36 KB     | ##################################### | 100% \n",
      "keras-applications-1 | 33 KB     | ##################################### | 100% \n",
      "mkl_fft-1.0.15       | 172 KB    | ##################################### | 100% \n",
      "intel-openmp-2019.4  | 876 KB    | ##################################### | 100% \n",
      "tensorflow-estimator | 300 KB    | ##################################### | 100% \n",
      "grpcio-1.16.1        | 1.0 MB    | ##################################### | 100% \n",
      "numpy-base-1.17.4    | 5.2 MB    | ##################################### | 100% \n",
      "scipy-1.3.2          | 18.1 MB   | ##################################### | 100% \n",
      "absl-py-0.8.1        | 161 KB    | ##################################### | 100% \n",
      "mkl-2019.4           | 204.1 MB  | ##################################### | 100% \n",
      "keras-2.2.4          | 5 KB      | ##################################### | 100% \n",
      "gast-0.2.2           | 137 KB    | ##################################### | 100% \n",
      "astor-0.8.0          | 45 KB     | ##################################### | 100% \n",
      "pyyaml-5.2           | 190 KB    | ##################################### | 100% \n",
      "protobuf-3.11.2      | 709 KB    | ##################################### | 100% \n",
      "werkzeug-0.16.0      | 255 KB    | ##################################### | 100% \n",
      "libprotobuf-3.11.2   | 4.8 MB    | ##################################### | 100% \n",
      "wrapt-1.11.2         | 49 KB     | ##################################### | 100% \n",
      "numpy-1.17.4         | 4 KB      | ##################################### | 100% \n",
      "termcolor-1.1.0      | 7 KB      | ##################################### | 100% \n",
      "google-pasta-0.1.8   | 43 KB     | ##################################### | 100% \n",
      "tensorflow-1.15.0    | 4 KB      | ##################################### | 100% \n",
      "opt_einsum-3.1.0     | 54 KB     | ##################################### | 100% \n",
      "markdown-3.1.1       | 113 KB    | ##################################### | 100% \n",
      "mkl-service-2.3.0    | 208 KB    | ##################################### | 100% \n",
      "keras-base-2.2.4     | 489 KB    | ##################################### | 100% \n",
      "tensorflow-base-1.15 | 119.2 MB  | ##################################### | 100% \n",
      "_tflow_select-2.3.0  | 2 KB      | ##################################### | 100% \n",
      "tensorboard-1.15.0   | 3.3 MB    | ##################################### | 100% \n",
      "Preparing transaction: done\n",
      "Verifying transaction: done\n",
      "Executing transaction: done\n",
      "\n",
      "Note: you may need to restart the kernel to use updated packages.\n"
     ]
    }
   ],
   "source": [
    "%conda install keras"
   ]
  },
  {
   "cell_type": "code",
   "execution_count": 38,
   "metadata": {},
   "outputs": [
    {
     "name": "stdout",
     "output_type": "stream",
     "text": [
      "WARNING: The conda.compat module is deprecated and will be removed in a future release.\n",
      "Collecting package metadata: done\n",
      "Solving environment: done\n",
      "\n",
      "\n",
      "==> WARNING: A newer version of conda exists. <==\n",
      "  current version: 4.6.11\n",
      "  latest version: 4.8.0\n",
      "\n",
      "Please update conda by running\n",
      "\n",
      "    $ conda update -n base -c defaults conda\n",
      "\n",
      "\n",
      "\n",
      "# All requested packages already installed.\n",
      "\n",
      "\n",
      "Note: you may need to restart the kernel to use updated packages.\n"
     ]
    }
   ],
   "source": [
    "%conda install tensorflow"
   ]
  },
  {
   "cell_type": "code",
   "execution_count": 41,
   "metadata": {},
   "outputs": [
    {
     "data": {
      "text/plain": [
       "['WARNING: The conda.compat module is deprecated and will be removed in a future release.',\n",
       " '# packages in environment at /root/anaconda3:',\n",
       " '#',\n",
       " '# Name                    Version                   Build  Channel']"
      ]
     },
     "execution_count": 41,
     "metadata": {},
     "output_type": "execute_result"
    }
   ],
   "source": [
    "%%system \n",
    "conda list keras"
   ]
  },
  {
   "cell_type": "markdown",
   "metadata": {},
   "source": [
    "# LSTM"
   ]
  },
  {
   "cell_type": "code",
   "execution_count": 2,
   "metadata": {},
   "outputs": [
    {
     "name": "stderr",
     "output_type": "stream",
     "text": [
      "Using TensorFlow backend.\n"
     ]
    },
    {
     "name": "stdout",
     "output_type": "stream",
     "text": [
      "WARNING:tensorflow:From /root/anaconda3/envs/DataMining/lib/python3.7/site-packages/keras/backend/tensorflow_backend.py:74: The name tf.get_default_graph is deprecated. Please use tf.compat.v1.get_default_graph instead.\n",
      "\n",
      "WARNING:tensorflow:From /root/anaconda3/envs/DataMining/lib/python3.7/site-packages/keras/backend/tensorflow_backend.py:517: The name tf.placeholder is deprecated. Please use tf.compat.v1.placeholder instead.\n",
      "\n",
      "WARNING:tensorflow:From /root/anaconda3/envs/DataMining/lib/python3.7/site-packages/keras/backend/tensorflow_backend.py:4138: The name tf.random_uniform is deprecated. Please use tf.random.uniform instead.\n",
      "\n",
      "WARNING:tensorflow:From /root/anaconda3/envs/DataMining/lib/python3.7/site-packages/keras/optimizers.py:790: The name tf.train.Optimizer is deprecated. Please use tf.compat.v1.train.Optimizer instead.\n",
      "\n",
      "WARNING:tensorflow:From /root/anaconda3/envs/DataMining/lib/python3.7/site-packages/keras/backend/tensorflow_backend.py:3295: The name tf.log is deprecated. Please use tf.math.log instead.\n",
      "\n"
     ]
    },
    {
     "name": "stderr",
     "output_type": "stream",
     "text": [
      "/root/anaconda3/envs/DataMining/lib/python3.7/site-packages/ipykernel_launcher.py:37: UserWarning: The `nb_epoch` argument in `fit` has been renamed `epochs`.\n"
     ]
    },
    {
     "name": "stdout",
     "output_type": "stream",
     "text": [
      "WARNING:tensorflow:From /root/anaconda3/envs/DataMining/lib/python3.7/site-packages/tensorflow_core/python/ops/math_grad.py:1424: where (from tensorflow.python.ops.array_ops) is deprecated and will be removed in a future version.\n",
      "Instructions for updating:\n",
      "Use tf.where in 2.0, which has the same broadcast rule as np.where\n",
      "WARNING:tensorflow:From /root/anaconda3/envs/DataMining/lib/python3.7/site-packages/keras/backend/tensorflow_backend.py:986: The name tf.assign_add is deprecated. Please use tf.compat.v1.assign_add instead.\n",
      "\n",
      "WARNING:tensorflow:From /root/anaconda3/envs/DataMining/lib/python3.7/site-packages/keras/backend/tensorflow_backend.py:973: The name tf.assign is deprecated. Please use tf.compat.v1.assign instead.\n",
      "\n",
      "WARNING:tensorflow:From /root/anaconda3/envs/DataMining/lib/python3.7/site-packages/keras/backend/tensorflow_backend.py:2741: The name tf.Session is deprecated. Please use tf.compat.v1.Session instead.\n",
      "\n",
      "Train on 1000 samples, validate on 100 samples\n",
      "Epoch 1/5\n",
      "WARNING:tensorflow:From /root/anaconda3/envs/DataMining/lib/python3.7/site-packages/keras/backend/tensorflow_backend.py:174: The name tf.get_default_session is deprecated. Please use tf.compat.v1.get_default_session instead.\n",
      "\n",
      "WARNING:tensorflow:From /root/anaconda3/envs/DataMining/lib/python3.7/site-packages/keras/backend/tensorflow_backend.py:181: The name tf.ConfigProto is deprecated. Please use tf.compat.v1.ConfigProto instead.\n",
      "\n",
      "WARNING:tensorflow:From /root/anaconda3/envs/DataMining/lib/python3.7/site-packages/keras/backend/tensorflow_backend.py:190: The name tf.global_variables is deprecated. Please use tf.compat.v1.global_variables instead.\n",
      "\n",
      "WARNING:tensorflow:From /root/anaconda3/envs/DataMining/lib/python3.7/site-packages/keras/backend/tensorflow_backend.py:199: The name tf.is_variable_initialized is deprecated. Please use tf.compat.v1.is_variable_initialized instead.\n",
      "\n",
      "WARNING:tensorflow:From /root/anaconda3/envs/DataMining/lib/python3.7/site-packages/keras/backend/tensorflow_backend.py:206: The name tf.variables_initializer is deprecated. Please use tf.compat.v1.variables_initializer instead.\n",
      "\n",
      "1000/1000 [==============================] - 9s 9ms/step - loss: 11.5995 - acc: 0.0960 - val_loss: 11.4651 - val_acc: 0.0900\n",
      "Epoch 2/5\n",
      "1000/1000 [==============================] - 1s 848us/step - loss: 11.5977 - acc: 0.1060 - val_loss: 11.4673 - val_acc: 0.0900\n",
      "Epoch 3/5\n",
      "1000/1000 [==============================] - 1s 864us/step - loss: 11.5972 - acc: 0.1120 - val_loss: 11.4653 - val_acc: 0.0800\n",
      "Epoch 4/5\n",
      "1000/1000 [==============================] - 1s 871us/step - loss: 11.5964 - acc: 0.1260 - val_loss: 11.4655 - val_acc: 0.0600\n",
      "Epoch 5/5\n",
      "1000/1000 [==============================] - 1s 863us/step - loss: 11.5955 - acc: 0.1180 - val_loss: 11.4643 - val_acc: 0.0400\n",
      "100/100 [==============================] - 0s 468us/step\n",
      "\n",
      "Evaluation Metrics：\n",
      " ['loss', 'acc']\n",
      "[11.597126083374024, 0.14]\n"
     ]
    }
   ],
   "source": [
    "#!/opt/anaconda2/bin/python\n",
    "# -*- coding: utf-8 -*-\n",
    "from keras.models import Sequential\n",
    "from keras.layers import LSTM, Dense\n",
    "import numpy as np\n",
    "import codecs,csv\n",
    "\n",
    "data_dim = 16\n",
    "timesteps = 8\n",
    "nb_classes = 10\n",
    "filename = \"LSTM-Outputs.txt\"\n",
    "\n",
    "# 简单搭建一个LSTM\n",
    "model = Sequential()  # 模型初始化\n",
    "# expected input data shape: (batch_size, timesteps, data_dim)\n",
    "model.add(LSTM(32, return_sequences=True,\n",
    "               input_shape=(timesteps, data_dim)))  # returns a sequence of vectors of dimension 32\n",
    "model.add(LSTM(32, return_sequences=True))  # returns a sequence of vectors of dimension 32\n",
    "model.add(LSTM(32))  # return a single vector of dimension 32\n",
    "model.add(Dense(10, activation='softmax'))\n",
    "\n",
    "model.compile(loss='categorical_crossentropy',\n",
    "              optimizer='rmsprop',\n",
    "              metrics=['accuracy'])\n",
    "\n",
    "# 生成训练数据\n",
    "x_train = np.random.random((1000, timesteps, data_dim))\n",
    "y_train = np.random.random((1000, nb_classes))\n",
    "# 生成验证数据\n",
    "x_val = np.random.random((100, timesteps, data_dim))\n",
    "y_val = np.random.random((100, nb_classes))\n",
    "# 生成验证数据\n",
    "x_test = np.random.random((100, timesteps, data_dim))\n",
    "y_test = np.random.random((100, nb_classes))\n",
    "\n",
    "# 训练模型\n",
    "model.fit(x_train, y_train, batch_size=64, nb_epoch=5,validation_data=(x_val, y_val))\n",
    "# 预测结果\n",
    "results = model.predict(x_test, batch_size=32, verbose=0)\n",
    "# 保存预测结果\n",
    "\n",
    "with codecs.open(filename, 'w', encoding='utf-8') as f:\n",
    "    f_csv = csv.writer(f)\n",
    "    f_csv.writerows(results)\n",
    "\t\t\n",
    "score = model.evaluate(x_test, y_test, batch_size=16) # 在test数据上评估模型\n",
    "print(\"\\nEvaluation Metrics：\\n\", model.metrics_names)\n",
    "print(score)"
   ]
  },
  {
   "cell_type": "code",
   "execution_count": 8,
   "metadata": {},
   "outputs": [
    {
     "data": {
      "text/plain": [
       "['0.09872068,0.09909036,0.09756784,0.09945232,0.10149519,0.10359305,0.099014565,0.10153909,0.09785472,0.1016722',\n",
       " '0.09937414,0.100764,0.099050455,0.09911605,0.10260559,0.098768845,0.09794066,0.102878764,0.1011187,0.09838283',\n",
       " '0.09886286,0.100745805,0.096850514,0.10006168,0.099311605,0.10468718,0.09876649,0.101973556,0.099417,0.099323355',\n",
       " '0.099056385,0.10048284,0.09914506,0.09905165,0.10292029,0.09992832,0.09831045,0.102226384,0.09986881,0.099009864',\n",
       " '0.09854326,0.10131999,0.09803644,0.09851867,0.101614624,0.09903499,0.09908958,0.104178354,0.10080119,0.09886297',\n",
       " '0.098771684,0.103383146,0.097573385,0.0977823,0.100144275,0.09767992,0.10029391,0.10374808,0.10116958,0.09945368',\n",
       " '0.09882819,0.09932422,0.09774982,0.09845453,0.10100934,0.10342102,0.09920906,0.101848826,0.0984874,0.10166763',\n",
       " '0.099211805,0.10015796,0.09954198,0.099020086,0.103398845,0.09883519,0.09844154,0.102016576,0.10008279,0.099293195',\n",
       " '0.0983323,0.09943401,0.09564061,0.100873224,0.098280616,0.1094855,0.09757824,0.10133948,0.09903848,0.09999755',\n",
       " '0.10030033,0.10170909,0.097514994,0.10006718,0.09936166,0.10162136,0.09909944,0.10080623,0.100680485,0.09883919',\n",
       " '0.09874797,0.10129501,0.0970958,0.09900888,0.100891314,0.100115314,0.098635174,0.104294695,0.10063872,0.099277094',\n",
       " '0.09774037,0.09816045,0.09805735,0.1005111,0.10088634,0.10745372,0.097547606,0.10003991,0.09906949,0.100533724',\n",
       " '0.098636545,0.10262608,0.096233636,0.10076481,0.09800527,0.10380283,0.098982126,0.103051916,0.10001981,0.09787692',\n",
       " '0.09874253,0.100704394,0.09851053,0.09883293,0.10290359,0.098657645,0.09858569,0.10323921,0.101440795,0.098382704',\n",
       " '0.09758075,0.10133849,0.09657142,0.098657794,0.100706875,0.10276476,0.09928742,0.10172739,0.10013142,0.1012337',\n",
       " '0.0985425,0.103814565,0.09659886,0.09908983,0.0992707,0.098348014,0.10064316,0.104295224,0.101035394,0.09836169',\n",
       " '0.09886467,0.10273621,0.096238665,0.10044849,0.09975463,0.10063812,0.09883133,0.10528126,0.10112888,0.09607775',\n",
       " '0.10011469,0.101280235,0.09801586,0.098537244,0.10003523,0.1022879,0.09867819,0.10312639,0.09851593,0.09940839',\n",
       " '0.097470924,0.097943634,0.096353345,0.10019509,0.10119077,0.1092676,0.096563846,0.099582724,0.09860216,0.10282992',\n",
       " '0.09900953,0.09962858,0.09878659,0.09852042,0.10076402,0.10265933,0.099117786,0.102143325,0.09839227,0.10097816',\n",
       " '0.09850477,0.09996805,0.09805847,0.099106304,0.100219704,0.10464438,0.09827525,0.10046687,0.10072071,0.10003543',\n",
       " '0.10126138,0.100953154,0.098420314,0.09915899,0.10021885,0.09912069,0.099810354,0.10294298,0.09928423,0.09882915',\n",
       " '0.09937029,0.103007965,0.09771506,0.09852418,0.09984832,0.09698832,0.101048455,0.103948645,0.10070697,0.09884188',\n",
       " '0.098379046,0.0984685,0.0983132,0.09866545,0.10273521,0.10320456,0.097565345,0.10296237,0.1000524,0.09965394',\n",
       " '0.09975074,0.103001855,0.097358726,0.09855206,0.1007698,0.09765767,0.09891269,0.1047578,0.101725556,0.09751309',\n",
       " '0.09908262,0.10073422,0.0974738,0.09982533,0.10074044,0.10224965,0.09915838,0.1030974,0.099064685,0.09857345',\n",
       " '0.09883669,0.10241874,0.09714086,0.09912648,0.100048855,0.09976216,0.099861376,0.10298272,0.10048513,0.099337064',\n",
       " '0.09847718,0.09939512,0.096003994,0.09952556,0.09986384,0.107092574,0.09764477,0.10182395,0.09885947,0.10131356',\n",
       " '0.099640615,0.09983962,0.098872714,0.09738967,0.10216973,0.09958883,0.09915099,0.10361621,0.09862197,0.101109676',\n",
       " '0.100924775,0.10299961,0.09757634,0.09941099,0.09922892,0.09794804,0.10082508,0.10483434,0.09908591,0.09716603',\n",
       " '0.09705912,0.10055232,0.096958324,0.10056351,0.10057988,0.10446431,0.09860875,0.10136792,0.10004505,0.09980081',\n",
       " '0.099171676,0.1000631,0.098800965,0.099173635,0.1022172,0.10133812,0.09894789,0.10274405,0.0991929,0.09835052',\n",
       " '0.099130556,0.10088619,0.096394084,0.101985715,0.0998011,0.10330329,0.09820529,0.10231416,0.101757824,0.09622176',\n",
       " '0.098912165,0.1003995,0.09551113,0.09981039,0.099383906,0.1058644,0.09834683,0.10360746,0.09904453,0.099119686',\n",
       " '0.09996068,0.105800554,0.097561456,0.099086165,0.0983518,0.095942326,0.101233564,0.10574743,0.10123761,0.09507837',\n",
       " '0.09903028,0.102280535,0.09718399,0.09980742,0.09879961,0.10143045,0.099512875,0.1027053,0.10048406,0.0987655',\n",
       " '0.1014368,0.10510643,0.09584999,0.0994925,0.097341165,0.09746147,0.10068281,0.10589385,0.10043781,0.09629713',\n",
       " '0.09932241,0.100612946,0.09723007,0.10003353,0.099950686,0.10458878,0.097840354,0.10136535,0.09908166,0.099974155',\n",
       " '0.0989526,0.10369518,0.09885327,0.097602814,0.10059436,0.09538064,0.10093968,0.10422008,0.100760326,0.0990011',\n",
       " '0.099196926,0.10026611,0.09818074,0.0980611,0.10146771,0.0997968,0.099376135,0.10339893,0.099008575,0.10124693',\n",
       " '0.09949447,0.10256487,0.09709975,0.10020932,0.09913181,0.099886805,0.09949119,0.103557706,0.1008321,0.097732',\n",
       " '0.098857425,0.100846834,0.0967544,0.100326255,0.09998324,0.10477884,0.097967826,0.10236549,0.09983236,0.098287284',\n",
       " '0.09856835,0.099614605,0.100709766,0.09801673,0.103605784,0.099255964,0.09918772,0.10082907,0.099634044,0.10057785',\n",
       " '0.099330045,0.10141538,0.09986994,0.09795452,0.10263508,0.097249754,0.099180944,0.10401706,0.099561006,0.0987863',\n",
       " '0.09865317,0.10019022,0.0974438,0.100503206,0.09934283,0.10466662,0.099419035,0.10160301,0.09912585,0.09905224',\n",
       " '0.098679945,0.09935196,0.098498255,0.09859814,0.10261746,0.10199195,0.09795912,0.10136176,0.098875664,0.10206581',\n",
       " '0.09970175,0.102622174,0.09876825,0.09725376,0.101875685,0.09637938,0.099675365,0.10420361,0.10089597,0.09862409',\n",
       " '0.09979911,0.10106274,0.09991784,0.096983686,0.10230576,0.09733667,0.099562116,0.10301734,0.09953438,0.10048043',\n",
       " '0.09896981,0.1012346,0.0968662,0.100215755,0.09981772,0.1026795,0.099239826,0.103086084,0.09998029,0.097910255',\n",
       " '0.099860564,0.10204738,0.099286646,0.097568795,0.101185046,0.09758556,0.10064446,0.102164395,0.10051787,0.099139296',\n",
       " '0.09822239,0.10273651,0.09724904,0.09953223,0.09932032,0.10077233,0.10002264,0.10278323,0.101134986,0.0982263',\n",
       " '0.099993765,0.102327146,0.0988838,0.098265,0.100906804,0.09744026,0.100004666,0.10293419,0.1011444,0.098099925',\n",
       " '0.09938796,0.101194575,0.09790901,0.09876213,0.09998581,0.10176152,0.0984481,0.10106029,0.10065712,0.10083346',\n",
       " '0.1001404,0.09975704,0.09860517,0.0987554,0.10176146,0.101982,0.09816037,0.102390654,0.09858569,0.099861845',\n",
       " '0.098891534,0.099922895,0.09925978,0.09835789,0.10353896,0.09844308,0.09829294,0.10299839,0.100478984,0.099815466',\n",
       " '0.099327,0.09868104,0.099312454,0.09871881,0.103426725,0.101796694,0.09746187,0.10089635,0.098783776,0.10159536',\n",
       " '0.09917968,0.10120522,0.09966194,0.09934428,0.10277084,0.09673586,0.09938522,0.103390135,0.10120645,0.09712035',\n",
       " '0.09881547,0.10214552,0.097485416,0.10030423,0.10009186,0.10080016,0.099264026,0.10242084,0.10001182,0.09866067',\n",
       " '0.098940134,0.10002133,0.0985488,0.09709999,0.10213371,0.10133166,0.09846171,0.10218667,0.09953777,0.10173826',\n",
       " '0.09807632,0.09998804,0.09737381,0.098425545,0.10109212,0.10396435,0.098151095,0.10327915,0.09883329,0.10081615',\n",
       " '0.09881469,0.10250481,0.09891398,0.09752087,0.10231559,0.09537476,0.100200206,0.10305255,0.10066873,0.10063379',\n",
       " '0.09944841,0.099411175,0.09757979,0.09775519,0.101243936,0.103267275,0.09769009,0.101632915,0.09951108,0.10246013',\n",
       " '0.09831849,0.10286622,0.0973223,0.09969226,0.100303575,0.099384,0.09902146,0.10350233,0.10172003,0.09786934',\n",
       " '0.10110928,0.10170986,0.09970387,0.09641071,0.10295818,0.09254015,0.100789204,0.105379164,0.09980659,0.09959294',\n",
       " '0.0973429,0.10083307,0.09612749,0.09943609,0.099035054,0.105790116,0.098700956,0.102217615,0.1001967,0.10032008',\n",
       " '0.09932438,0.10125909,0.09937375,0.10002385,0.10137294,0.099423975,0.099492066,0.10096398,0.10101792,0.09774806',\n",
       " '0.09774179,0.10110502,0.09523983,0.10150728,0.09891122,0.10641633,0.09734722,0.1033718,0.099828385,0.09853118',\n",
       " '0.09865964,0.09897587,0.098493576,0.098909624,0.10337359,0.100985155,0.09804602,0.1022369,0.10009324,0.10022646',\n",
       " '0.10044094,0.102716714,0.09858404,0.09873611,0.10026283,0.09719898,0.099901795,0.10406079,0.10123858,0.096859194',\n",
       " '0.099504955,0.10015605,0.09789584,0.09928214,0.10159111,0.101438984,0.098783255,0.102758676,0.09911921,0.09946974',\n",
       " '0.09926516,0.099492446,0.09873633,0.098456435,0.10253477,0.1030728,0.09764776,0.10059827,0.09956994,0.10062613',\n",
       " '0.099398404,0.101654164,0.0994604,0.09894529,0.10183791,0.09790073,0.09975271,0.10294173,0.100605056,0.09750367',\n",
       " '0.09819653,0.10302304,0.096116364,0.09974134,0.097886264,0.103946894,0.09992418,0.10068885,0.10075271,0.099723786',\n",
       " '0.09980569,0.10077302,0.099716544,0.09631524,0.10239163,0.09767559,0.09893085,0.103116125,0.09973968,0.10153562',\n",
       " '0.0989518,0.10190837,0.09798256,0.09779014,0.10160816,0.09917246,0.09887239,0.10211093,0.101501204,0.100101866',\n",
       " '0.09777548,0.10376912,0.09589376,0.099236764,0.09903664,0.09985018,0.100299284,0.10438787,0.10203842,0.09771246',\n",
       " '0.098893315,0.10157111,0.0973954,0.09943501,0.100042425,0.10231357,0.09909095,0.1023446,0.099997364,0.098916225',\n",
       " '0.09938127,0.09997416,0.098257676,0.0986644,0.10159196,0.10200572,0.098667145,0.10395938,0.09762985,0.099868424',\n",
       " '0.09847412,0.10187883,0.09726152,0.09974946,0.099747166,0.101699285,0.10036965,0.10205946,0.099661045,0.099099465',\n",
       " '0.09869124,0.09845021,0.09616707,0.09850874,0.10072982,0.10735658,0.09688655,0.10148736,0.09956546,0.102157',\n",
       " '0.10130942,0.10266873,0.09771273,0.09954458,0.09915938,0.09922464,0.10000285,0.10376142,0.09968941,0.09692686',\n",
       " '0.09874256,0.10023247,0.09856336,0.09788483,0.1012658,0.102277204,0.09867454,0.10175732,0.09956356,0.10103837',\n",
       " '0.09784319,0.10044799,0.09802106,0.098381415,0.10123514,0.10157483,0.099012926,0.102448426,0.10042838,0.10060665',\n",
       " '0.09967557,0.10129112,0.09878065,0.09807039,0.0999198,0.10115548,0.09982523,0.10155648,0.09938712,0.100338094',\n",
       " '0.10023358,0.104520194,0.09752364,0.09931784,0.09978812,0.095231675,0.101852186,0.104437545,0.101447314,0.09564789',\n",
       " '0.09944912,0.10293238,0.09769048,0.100632876,0.09944329,0.09893823,0.100347675,0.10333168,0.10020085,0.09703342',\n",
       " '0.099139474,0.10120233,0.09683472,0.10021977,0.09985268,0.10355913,0.09794709,0.10242689,0.1003686,0.0984494',\n",
       " '0.09824194,0.10158243,0.09678002,0.100097425,0.10062465,0.101485655,0.09823877,0.10299926,0.10156298,0.09838687',\n",
       " '0.098733746,0.10193957,0.095617995,0.10110682,0.09821493,0.10468625,0.09873251,0.10337867,0.09979861,0.09779086',\n",
       " '0.099235035,0.101497665,0.09674763,0.10009261,0.09951494,0.103695355,0.09872152,0.10312167,0.099314965,0.09805867',\n",
       " '0.100035444,0.10334063,0.10099662,0.097852625,0.103058144,0.09236263,0.10075815,0.104863144,0.10173616,0.09499652',\n",
       " '0.10032419,0.102545746,0.099377,0.09841867,0.101405,0.09587933,0.100625604,0.103498116,0.10023876,0.09768761',\n",
       " '0.0980123,0.0993415,0.09761607,0.09929852,0.100563444,0.10559477,0.0982716,0.10000966,0.099565215,0.101726994',\n",
       " '0.09898195,0.10140793,0.09822673,0.09805543,0.10141509,0.09908917,0.09885276,0.10355744,0.10055705,0.09985636',\n",
       " '0.09796852,0.10145322,0.09666237,0.100070044,0.099449724,0.103403986,0.09966104,0.102300584,0.10049144,0.09853914',\n",
       " '0.09879823,0.10177416,0.096799254,0.0996597,0.09965793,0.101159304,0.09968986,0.10387664,0.09996598,0.0986189',\n",
       " '0.099658854,0.101866975,0.098850265,0.09931182,0.10101693,0.09855146,0.099152684,0.10340562,0.10073284,0.0974526',\n",
       " '0.10015949,0.09881655,0.100261696,0.097551204,0.103794694,0.098205,0.098406814,0.10311657,0.099576965,0.100110956',\n",
       " '0.099746116,0.10093021,0.09814934,0.0980999,0.10195777,0.09963382,0.09877096,0.10327362,0.1004508,0.098987445',\n",
       " '0.09943228,0.09960826,0.09807895,0.099909775,0.10217643,0.101962075,0.09790382,0.103929855,0.09966775,0.0973308']"
      ]
     },
     "execution_count": 8,
     "metadata": {},
     "output_type": "execute_result"
    }
   ],
   "source": [
    "%system cat LSTM-Outputs.txt"
   ]
  }
 ],
 "metadata": {
  "kernelspec": {
   "display_name": "DataMining",
   "language": "python",
   "name": "datamining"
  },
  "language_info": {
   "codemirror_mode": {
    "name": "ipython",
    "version": 3
   },
   "file_extension": ".py",
   "mimetype": "text/x-python",
   "name": "python",
   "nbconvert_exporter": "python",
   "pygments_lexer": "ipython3",
   "version": "3.7.5"
  }
 },
 "nbformat": 4,
 "nbformat_minor": 2
}
