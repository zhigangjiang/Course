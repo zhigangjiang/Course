{
 "cells": [
  {
   "cell_type": "markdown",
   "metadata": {},
   "source": [
    "# jupyter 安装虚拟环境\n",
    "原本服务器上是单独安装jupyter，python3 ，python2，但是项目多了，就需要使用虚拟环境了。参考了网上教程[https://murphypei.github.io/blog/2019/01/jupyter-virtualenvs.html]。\n",
    "## 安装Anoconda\n",
    "```sh\n",
    "bash Anaconda3-2019.03-Linux-x86_64.sh\n",
    "```\n",
    "如果执行conda命令没有成功\n",
    "手动写入环境变量到.bash_profile：\n",
    "```\n",
    "PATH=$PATH:/root/anaconda3/bin\n",
    "export PATH\n",
    "```\n",
    "## 创建虚拟环境DataMining\n",
    "```sh\n",
    "conda create -n DataMining python=3.7\n",
    "conda activate DataMining #手动激活\n",
    "```\n",
    "## 虚拟环境安装ipykernel\n",
    "```sh\n",
    "pip install ipykernel\n",
    "```\n",
    "## 添加到外部环境\n",
    "```sh\n",
    "python -m ipykernel install --user --name=DataMining\n",
    "cd  /root/.local/share/jupyter/kernels/ # 查看已添加的，如果不需要可以则删除目录下文件夹\n",
    "```\n",
    "\n",
    "然后就可以在jupyter的Kernel-change kernel中看到新添加的虚拟环境啦\n"
   ]
  },
  {
   "cell_type": "markdown",
   "metadata": {},
   "source": [
    "# Anoconda命令\n",
    "## 删除虚拟环境\n",
    "如果在虚拟环境中，先退出\n",
    "```sh\n",
    "conda deactivate\n",
    "```\n",
    "执行删除\n",
    "```\n",
    "conda remove -n DataMining --all\n",
    "```"
   ]
  }
 ],
 "metadata": {
  "kernelspec": {
   "display_name": "ImageProcessing",
   "language": "python",
   "name": "imageprocessing"
  },
  "language_info": {
   "codemirror_mode": {
    "name": "ipython",
    "version": 3
   },
   "file_extension": ".py",
   "mimetype": "text/x-python",
   "name": "python",
   "nbconvert_exporter": "python",
   "pygments_lexer": "ipython3",
   "version": "3.7.5"
  }
 },
 "nbformat": 4,
 "nbformat_minor": 2
}
