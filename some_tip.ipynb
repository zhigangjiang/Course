{
 "cells": [
  {
   "cell_type": "code",
   "execution_count": 2,
   "metadata": {},
   "outputs": [
    {
     "data": {
      "text/plain": [
       "'/root'"
      ]
     },
     "execution_count": 2,
     "metadata": {},
     "output_type": "execute_result"
    }
   ],
   "source": [
    "%pwd"
   ]
  },
  {
   "cell_type": "code",
   "execution_count": 3,
   "metadata": {},
   "outputs": [
    {
     "name": "stdout",
     "output_type": "stream",
     "text": [
      "\u001b[0m\u001b[38;5;27manaconda3\u001b[0m/  \u001b[38;5;27mdownload\u001b[0m/  package-lock.json  server.csr   show\n",
      "\u001b[38;5;27mcode\u001b[0m/       example    \u001b[38;5;27mPython-3.7.0\u001b[0m/      server.key\n",
      "\u001b[38;5;27mCourse\u001b[0m/     nohup.out  server.crt         \u001b[38;5;27mShellScrip\u001b[0m/\n"
     ]
    }
   ],
   "source": [
    "%ls"
   ]
  },
  {
   "cell_type": "markdown",
   "metadata": {},
   "source": [
    "git push github 免输入账号和密码方法\n",
    "git config --global credential.helper store\n",
    "\n",
    "打开~/.gitconfig文件，会发现多了一项:\n",
    "\n",
    "[credential]\n",
    "\n",
    "　　helper = store\n",
    "\n",
    "此时,再次push  输入用户名和密码,以后再次push即可免去输入用户名和密码"
   ]
  },
  {
   "cell_type": "markdown",
   "metadata": {},
   "source": [
    "# jupyter 安装虚拟环境\n",
    "原本服务器上是单独安装jupyter，python3 ，python2，但是项目多了，就需要使用虚拟环境了。参考了网上教程[https://murphypei.github.io/blog/2019/01/jupyter-virtualenvs.html]。\n",
    "## 安装Anoconda\n",
    "```sh\n",
    "bash Anaconda3-2019.03-Linux-x86_64.sh\n",
    "```\n",
    "如果执行conda命令没有成功\n",
    "手动写入环境变量到.bash_profile：\n",
    "```\n",
    "PATH=$PATH:/root/anaconda3/bin\n",
    "export PATH\n",
    "```\n",
    "## 创建虚拟环境DataMining\n",
    "```sh\n",
    "conda create -n DataMining python=3.7\n",
    "conda activate DataMining #手动激活\n",
    "```\n",
    "## 虚拟环境安装ipykernel\n",
    "```sh\n",
    "pip install ipykernel\n",
    "```\n",
    "## 添加到外部环境\n",
    "```sh\n",
    "python -m ipykernel install --user --name=DataMining\n",
    "cd  /root/.local/share/jupyter/kernels/ # 查看已添加的，如果不需要可以则删除目录下文件夹\n",
    "```\n",
    "\n",
    "然后就可以在jupyter的Kernel-change kernel中看到新添加的虚拟环境啦\n"
   ]
  },
  {
   "cell_type": "markdown",
   "metadata": {},
   "source": [
    "# Anoconda命令\n",
    "## 删除虚拟环境\n",
    "如果在虚拟环境中，先退出\n",
    "```sh\n",
    "conda deactivate\n",
    "```\n",
    "执行删除\n",
    "```\n",
    "conda remove -n DataMining --all\n",
    "```"
   ]
  },
  {
   "cell_type": "markdown",
   "metadata": {},
   "source": [
    "# 下载\n",
    "``\n",
    "wget -P path url\n",
    "``\n",
    "\n",
    "# conda\n",
    "\n",
    "查看所有环境\n",
    "``\n",
    "conda info --envs\n",
    "``\n",
    "新建虚拟环境\n",
    "``\n",
    "conda create -n myenv python=3.6\n",
    "``\n",
    "删除虚拟环境\n",
    "``\n",
    "conda remove -n myenv --all\n",
    "``\n",
    "激活虚拟环境\n",
    "``\n",
    "conda activate myenv\n",
    "``\n",
    "退出虚拟环境\n",
    "``\n",
    "conda deactivate myenv\n",
    "``"
   ]
  }
 ],
 "metadata": {
  "kernelspec": {
   "display_name": "DataMining",
   "language": "python",
   "name": "datamining"
  },
  "language_info": {
   "codemirror_mode": {
    "name": "ipython",
    "version": 3
   },
   "file_extension": ".py",
   "mimetype": "text/x-python",
   "name": "python",
   "nbconvert_exporter": "python",
   "pygments_lexer": "ipython3",
   "version": "3.7.7"
  },
  "toc": {
   "base_numbering": 1,
   "nav_menu": {},
   "number_sections": true,
   "sideBar": true,
   "skip_h1_title": false,
   "title_cell": "Table of Contents",
   "title_sidebar": "Contents",
   "toc_cell": false,
   "toc_position": {},
   "toc_section_display": true,
   "toc_window_display": false
  }
 },
 "nbformat": 4,
 "nbformat_minor": 4
}
