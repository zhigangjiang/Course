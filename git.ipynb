{
 "cells": [
  {
   "cell_type": "code",
   "execution_count": 17,
   "metadata": {},
   "outputs": [
    {
     "name": "stdout",
     "output_type": "stream",
     "text": [
      "/data/jupyter/root/Course\n"
     ]
    }
   ],
   "source": [
    "%cd /data/jupyter/root/Course/"
   ]
  },
  {
   "cell_type": "code",
   "execution_count": 18,
   "metadata": {},
   "outputs": [
    {
     "name": "stdout",
     "output_type": "stream",
     "text": [
      "/data/jupyter/root/Course\n"
     ]
    }
   ],
   "source": [
    "%pwd "
   ]
  },
  {
   "cell_type": "code",
   "execution_count": 40,
   "metadata": {},
   "outputs": [
    {
     "name": "stdout",
     "output_type": "stream",
     "text": [
      "total 40\n",
      "drwxr-xr-x 5 root 4096 Aug  2 13:45 \u001b[0m\u001b[38;5;27m.\u001b[0m/\n",
      "drwxr-xr-x 8 root 4096 Aug  2 13:37 \u001b[38;5;27m..\u001b[0m/\n",
      "drwxr-xr-x 8 root 4096 Aug  2 13:44 \u001b[38;5;27m.git\u001b[0m/\n",
      "-rw-r--r-- 1 root   19 Aug  2 13:45 .gitignore\n",
      "-rw-r--r-- 1 root 2311 Aug  2 13:44 git.ipynb\n",
      "drwxr-xr-x 2 root 4096 Aug  2 13:44 \u001b[38;5;27m.ipynb_checkpoints\u001b[0m/\n",
      "drwxr-xr-x 3 root 4096 May 31 11:52 \u001b[38;5;27mMMIR\u001b[0m/\n",
      "-rw-r--r-- 1 root    9 Aug  2 13:31 README.md\n",
      "-rw-r--r-- 1 root 4221 Aug  2 13:38 some_tip.ipynb\n"
     ]
    }
   ],
   "source": [
    "%ll -a"
   ]
  },
  {
   "cell_type": "code",
   "execution_count": 45,
   "metadata": {},
   "outputs": [],
   "source": [
    "!git add -A"
   ]
  },
  {
   "cell_type": "code",
   "execution_count": 46,
   "metadata": {},
   "outputs": [
    {
     "name": "stdout",
     "output_type": "stream",
     "text": [
      "# On branch master\n",
      "# Changes to be committed:\n",
      "#   (use \"git reset HEAD <file>...\" to unstage)\n",
      "#\n",
      "#\tnew file:   .gitignore\n",
      "#\tnew file:   .ipynb_checkpoints/some_tip-checkpoint.ipynb\n",
      "#\tnew file:   git.ipynb\n",
      "#\tnew file:   some_tip.ipynb\n",
      "#\n"
     ]
    }
   ],
   "source": [
    "!git status"
   ]
  },
  {
   "cell_type": "code",
   "execution_count": 39,
   "metadata": {},
   "outputs": [],
   "source": [
    "!echo .ipynb_checkpoints >> .gitignore"
   ]
  }
 ],
 "metadata": {
  "kernelspec": {
   "display_name": "Python 3",
   "language": "python",
   "name": "python3"
  },
  "language_info": {
   "codemirror_mode": {
    "name": "ipython",
    "version": 3
   },
   "file_extension": ".py",
   "mimetype": "text/x-python",
   "name": "python",
   "nbconvert_exporter": "python",
   "pygments_lexer": "ipython3",
   "version": "3.7.3"
  }
 },
 "nbformat": 4,
 "nbformat_minor": 4
}
