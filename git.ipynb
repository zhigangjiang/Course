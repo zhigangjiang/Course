{
 "cells": [
  {
   "cell_type": "code",
   "execution_count": 17,
   "metadata": {},
   "outputs": [
    {
     "name": "stdout",
     "output_type": "stream",
     "text": [
      "/data/jupyter/root/Course\n"
     ]
    }
   ],
   "source": [
    "%cd /data/jupyter/root/Course/"
   ]
  },
  {
   "cell_type": "code",
   "execution_count": 18,
   "metadata": {},
   "outputs": [
    {
     "name": "stdout",
     "output_type": "stream",
     "text": [
      "/data/jupyter/root/Course\n"
     ]
    }
   ],
   "source": [
    "%pwd "
   ]
  },
  {
   "cell_type": "code",
   "execution_count": 70,
   "metadata": {},
   "outputs": [
    {
     "name": "stdout",
     "output_type": "stream",
     "text": [
      "total 40\n",
      "drwxr-xr-x 5 root 4096 Aug  2 13:56 \u001b[0m\u001b[38;5;27m.\u001b[0m/\n",
      "drwxr-xr-x 8 root 4096 Aug  2 13:37 \u001b[38;5;27m..\u001b[0m/\n",
      "drwxr-xr-x 8 root 4096 Aug  2 13:56 \u001b[38;5;27m.git\u001b[0m/\n",
      "-rw-r--r-- 1 root 4177 Aug  2 13:54 git.ipynb\n",
      "drwxr-xr-x 2 root 4096 Aug  2 13:44 \u001b[38;5;27m.ipynb_checkpoints\u001b[0m/\n",
      "drwxr-xr-x 3 root 4096 May 31 11:52 \u001b[38;5;27mMMIR\u001b[0m/\n",
      "-rw-r--r-- 1 root    9 Aug  2 13:31 README.md\n",
      "-rw-r--r-- 1 root 4221 Aug  2 13:38 some_tip.ipynb\n"
     ]
    }
   ],
   "source": [
    "%ll -a"
   ]
  },
  {
   "cell_type": "code",
   "execution_count": 84,
   "metadata": {},
   "outputs": [],
   "source": [
    "!git add ./"
   ]
  },
  {
   "cell_type": "code",
   "execution_count": 82,
   "metadata": {},
   "outputs": [
    {
     "name": "stdout",
     "output_type": "stream",
     "text": [
      "Unstaged changes after reset:\n",
      "M\t.gitignore\n",
      "M\tgit.ipynb\n"
     ]
    }
   ],
   "source": [
    "#!git reset"
   ]
  },
  {
   "cell_type": "code",
   "execution_count": 90,
   "metadata": {},
   "outputs": [
    {
     "name": "stdout",
     "output_type": "stream",
     "text": [
      "# On branch master\n",
      "# Changes not staged for commit:\n",
      "#   (use \"git add/rm <file>...\" to update what will be committed)\n",
      "#   (use \"git checkout -- <file>...\" to discard changes in working directory)\n",
      "#\n",
      "#\tdeleted:    .ipynb_checkpoints/some_tip-checkpoint.ipynb\n",
      "#\tmodified:   git.ipynb\n",
      "#\n",
      "no changes added to commit (use \"git add\" and/or \"git commit -a\")\n"
     ]
    }
   ],
   "source": [
    "!git status"
   ]
  },
  {
   "cell_type": "code",
   "execution_count": 91,
   "metadata": {},
   "outputs": [
    {
     "name": "stdout",
     "output_type": "stream",
     "text": [
      "# On branch master\n",
      "# Changes not staged for commit:\n",
      "#   (use \"git add/rm <file>...\" to update what will be committed)\n",
      "#   (use \"git checkout -- <file>...\" to discard changes in working directory)\n",
      "#\n",
      "#\tdeleted:    .ipynb_checkpoints/some_tip-checkpoint.ipynb\n",
      "#\tmodified:   git.ipynb\n",
      "#\n",
      "no changes added to commit (use \"git add\" and/or \"git commit -a\")\n"
     ]
    }
   ],
   "source": [
    "!git commit -m \"deleted ipynb_checkpoints\""
   ]
  },
  {
   "cell_type": "code",
   "execution_count": 87,
   "metadata": {},
   "outputs": [
    {
     "name": "stdout",
     "output_type": "stream",
     "text": [
      "commit 1ea5abda9d3f8e0b259c60f486cee9bd05bdb82c\n",
      "Author: bemlai <zigjiang@gmail.com>\n",
      "Date:   Sun Aug 2 14:01:29 2020 +0800\n",
      "\n",
      "    test\n",
      "\n",
      "commit ac3c37771b33fde085434bf7f2ea15522ddecd56\n",
      "Author: bemlai <zigjiang@gmail.com>\n",
      "Date:   Sun Aug 2 13:53:29 2020 +0800\n",
      "\n",
      "    test\n"
     ]
    }
   ],
   "source": [
    "!git log -2"
   ]
  },
  {
   "cell_type": "code",
   "execution_count": 89,
   "metadata": {},
   "outputs": [
    {
     "name": "stdout",
     "output_type": "stream",
     "text": [
      "Counting objects: 7, done.\n",
      "Compressing objects: 100% (3/3), done.\n",
      "Writing objects: 100% (4/4), 1.02 KiB | 0 bytes/s, done.\n",
      "Total 4 (delta 2), reused 0 (delta 0)\n",
      "remote: Resolving deltas: 100% (2/2), completed with 2 local objects.\u001b[K\n",
      "To https://github.com/zhigangjiang/Course.git\n",
      "   ac3c377..1ea5abd  master -> master\n",
      "Branch master set up to track remote branch master from origin.\n"
     ]
    }
   ],
   "source": [
    "!git push -u origin master"
   ]
  }
 ],
 "metadata": {
  "kernelspec": {
   "display_name": "Python 3",
   "language": "python",
   "name": "python3"
  },
  "language_info": {
   "codemirror_mode": {
    "name": "ipython",
    "version": 3
   },
   "file_extension": ".py",
   "mimetype": "text/x-python",
   "name": "python",
   "nbconvert_exporter": "python",
   "pygments_lexer": "ipython3",
   "version": "3.7.3"
  }
 },
 "nbformat": 4,
 "nbformat_minor": 4
}
