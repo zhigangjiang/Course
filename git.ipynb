{
 "cells": [
  {
   "cell_type": "code",
   "execution_count": 17,
   "metadata": {},
   "outputs": [
    {
     "name": "stdout",
     "output_type": "stream",
     "text": [
      "/data/jupyter/root/Course\n"
     ]
    }
   ],
   "source": [
    "%cd /data/jupyter/root/Course/"
   ]
  },
  {
   "cell_type": "code",
   "execution_count": 18,
   "metadata": {},
   "outputs": [
    {
     "name": "stdout",
     "output_type": "stream",
     "text": [
      "/data/jupyter/root/Course\n"
     ]
    }
   ],
   "source": [
    "%pwd "
   ]
  },
  {
   "cell_type": "code",
   "execution_count": 70,
   "metadata": {},
   "outputs": [
    {
     "name": "stdout",
     "output_type": "stream",
     "text": [
      "total 40\n",
      "drwxr-xr-x 5 root 4096 Aug  2 13:56 \u001b[0m\u001b[38;5;27m.\u001b[0m/\n",
      "drwxr-xr-x 8 root 4096 Aug  2 13:37 \u001b[38;5;27m..\u001b[0m/\n",
      "drwxr-xr-x 8 root 4096 Aug  2 13:56 \u001b[38;5;27m.git\u001b[0m/\n",
      "-rw-r--r-- 1 root 4177 Aug  2 13:54 git.ipynb\n",
      "drwxr-xr-x 2 root 4096 Aug  2 13:44 \u001b[38;5;27m.ipynb_checkpoints\u001b[0m/\n",
      "drwxr-xr-x 3 root 4096 May 31 11:52 \u001b[38;5;27mMMIR\u001b[0m/\n",
      "-rw-r--r-- 1 root    9 Aug  2 13:31 README.md\n",
      "-rw-r--r-- 1 root 4221 Aug  2 13:38 some_tip.ipynb\n"
     ]
    }
   ],
   "source": [
    "%ll -a"
   ]
  },
  {
   "cell_type": "code",
   "execution_count": 76,
   "metadata": {},
   "outputs": [],
   "source": [
    "!git add ./"
   ]
  },
  {
   "cell_type": "code",
   "execution_count": null,
   "metadata": {},
   "outputs": [],
   "source": []
  },
  {
   "cell_type": "code",
   "execution_count": 77,
   "metadata": {},
   "outputs": [
    {
     "name": "stdout",
     "output_type": "stream",
     "text": [
      "# On branch master\n",
      "# Changes to be committed:\n",
      "#   (use \"git reset HEAD <file>...\" to unstage)\n",
      "#\n",
      "#\tmodified:   .gitignore\n",
      "#\tnew file:   .ipynb_checkpoints/git-checkpoint.ipynb\n",
      "#\tmodified:   git.ipynb\n",
      "#\n"
     ]
    }
   ],
   "source": [
    "!git status"
   ]
  },
  {
   "cell_type": "code",
   "execution_count": 65,
   "metadata": {},
   "outputs": [
    {
     "name": "stdout",
     "output_type": "stream",
     "text": [
      "[master ac3c377] test\n",
      " 1 file changed, 52 insertions(+), 20 deletions(-)\n"
     ]
    }
   ],
   "source": [
    "!git commit -m \"test\""
   ]
  },
  {
   "cell_type": "code",
   "execution_count": 68,
   "metadata": {},
   "outputs": [
    {
     "name": "stdout",
     "output_type": "stream",
     "text": [
      "commit ac3c37771b33fde085434bf7f2ea15522ddecd56\n",
      "Author: bemlai <zigjiang@gmail.com>\n",
      "Date:   Sun Aug 2 13:53:29 2020 +0800\n",
      "\n",
      "    test\n",
      "\n",
      "commit 4461ef95a419df11fc91df2b8073787312fb36a4\n",
      "Author: bemlai <zigjiang@gmail.com>\n",
      "Date:   Sun Aug 2 13:52:50 2020 +0800\n",
      "\n",
      "    test\n"
     ]
    }
   ],
   "source": [
    "!git log -2"
   ]
  },
  {
   "cell_type": "code",
   "execution_count": 69,
   "metadata": {},
   "outputs": [
    {
     "name": "stdout",
     "output_type": "stream",
     "text": [
      "Counting objects: 11, done.\n",
      "Compressing objects: 100% (9/9), done.\n",
      "Writing objects: 100% (10/10), 4.25 KiB | 0 bytes/s, done.\n",
      "Total 10 (delta 2), reused 0 (delta 0)\n",
      "remote: Resolving deltas: 100% (2/2), done.\u001b[K\n",
      "To https://github.com/zhigangjiang/Course.git\n",
      "   133a495..ac3c377  master -> master\n",
      "Branch master set up to track remote branch master from origin.\n"
     ]
    }
   ],
   "source": [
    "!git push -u origin master"
   ]
  }
 ],
 "metadata": {
  "kernelspec": {
   "display_name": "Python 3",
   "language": "python",
   "name": "python3"
  },
  "language_info": {
   "codemirror_mode": {
    "name": "ipython",
    "version": 3
   },
   "file_extension": ".py",
   "mimetype": "text/x-python",
   "name": "python",
   "nbconvert_exporter": "python",
   "pygments_lexer": "ipython3",
   "version": "3.7.3"
  }
 },
 "nbformat": 4,
 "nbformat_minor": 4
}
