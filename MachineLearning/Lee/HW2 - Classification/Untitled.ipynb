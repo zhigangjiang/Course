{
 "cells": [
  {
   "cell_type": "code",
   "execution_count": 4,
   "metadata": {},
   "outputs": [
    {
     "name": "stdout",
     "output_type": "stream",
     "text": [
      "/data/jupyter/root/MachineLearning/Lee/hw2\n"
     ]
    }
   ],
   "source": [
    "%cd /data/jupyter/root/MachineLearning/Lee/hw2/"
   ]
  },
  {
   "cell_type": "code",
   "execution_count": 5,
   "metadata": {},
   "outputs": [
    {
     "name": "stdout",
     "output_type": "stream",
     "text": [
      "data/\n",
      "data/sample_submission.csv\n",
      "data/test_no_label.csv\n",
      "data/train.csv\n",
      "data/X_test\n",
      "data/X_train\n",
      "data/Y_train\n",
      "data  data.tar.gz  Untitled.ipynb\n"
     ]
    }
   ],
   "source": [
    "!tar -zxvf data.tar.gz\n",
    "!ls"
   ]
  },
  {
   "cell_type": "markdown",
   "metadata": {},
   "source": [
    "# Logistic Regression(Discriminative Model)"
   ]
  },
  {
   "cell_type": "code",
   "execution_count": 1,
   "metadata": {},
   "outputs": [],
   "source": [
    "import pandas as pd\n",
    "import numpy as np\n",
    "np.random.seed(0)"
   ]
  },
  {
   "cell_type": "code",
   "execution_count": 2,
   "metadata": {},
   "outputs": [],
   "source": [
    "X_train_fpath = './data/X_train'\n",
    "Y_train_fpath = './data/Y_train'\n",
    "X_test_fpath = './data/X_test'\n",
    "output_fpath = './output_{}.csv'"
   ]
  },
  {
   "cell_type": "code",
   "execution_count": 7,
   "metadata": {},
   "outputs": [
    {
     "name": "stdout",
     "output_type": "stream",
     "text": [
      "      id  age   Private   Self-employed-incorporated   State government  \\\n",
      "0      0   33         1                            0                  0   \n",
      "1      1   63         1                            0                  0   \n",
      "2      2   71         0                            0                  0   \n",
      "3      3   43         0                            0                  0   \n",
      "4      4   57         0                            0                  0   \n",
      "..   ...  ...       ...                          ...                ...   \n",
      "995  995   21         1                            0                  0   \n",
      "996  996   23         1                            0                  0   \n",
      "997  997   64         0                            0                  0   \n",
      "998  998   61         1                            0                  0   \n",
      "999  999   67         0                            0                  0   \n",
      "\n",
      "      Self-employed-not incorporated   Not in universe   Without pay  \\\n",
      "0                                  0                 0             0   \n",
      "1                                  0                 0             0   \n",
      "2                                  0                 1             0   \n",
      "3                                  0                 0             0   \n",
      "4                                  0                 0             0   \n",
      "..                               ...               ...           ...   \n",
      "995                                0                 0             0   \n",
      "996                                0                 0             0   \n",
      "997                                0                 1             0   \n",
      "998                                0                 0             0   \n",
      "999                                0                 1             0   \n",
      "\n",
      "      Federal government   Never worked  ...   1.2   Not in universe.12  \\\n",
      "0                      0              0  ...     0                    1   \n",
      "1                      0              0  ...     0                    1   \n",
      "2                      0              0  ...     0                    1   \n",
      "3                      0              0  ...     0                    1   \n",
      "4                      0              0  ...     0                    1   \n",
      "..                   ...            ...  ...   ...                  ...   \n",
      "995                    0              0  ...     0                    1   \n",
      "996                    0              0  ...     0                    1   \n",
      "997                    0              0  ...     0                    1   \n",
      "998                    0              0  ...     0                    1   \n",
      "999                    0              0  ...     0                    1   \n",
      "\n",
      "      Yes.3   No.3   2.3   0.3   1.3  weeks worked in year   94   95  \n",
      "0         0      0     1     0     0                    52    0    1  \n",
      "1         0      0     1     0     0                    52    0    1  \n",
      "2         0      0     1     0     0                     0    0    1  \n",
      "3         0      0     1     0     0                    52    0    1  \n",
      "4         0      0     1     0     0                    52    0    1  \n",
      "..      ...    ...   ...   ...   ...                   ...  ...  ...  \n",
      "995       0      0     1     0     0                    40    0    1  \n",
      "996       0      0     1     0     0                     8    1    0  \n",
      "997       0      0     1     0     0                     0    0    1  \n",
      "998       0      0     1     0     0                    52    0    1  \n",
      "999       0      0     1     0     0                     0    1    0  \n",
      "\n",
      "[1000 rows x 511 columns]\n"
     ]
    }
   ],
   "source": [
    "reader = pd.read_csv(X_train_fpath,nrows=10000, chunksize=1000,iterator=True)\n",
    "X_train = []\n",
    "for r in reader:\n",
    "    print(r.)\n",
    "    break"
   ]
  },
  {
   "cell_type": "code",
   "execution_count": null,
   "metadata": {},
   "outputs": [],
   "source": [
    "with open(X_train_fpath) as f:\n",
    "    next(f)\n",
    "    X_train = np.array([line.strip('\\n').split(',')[1:] for line in f], dtype = float)"
   ]
  },
  {
   "cell_type": "code",
   "execution_count": null,
   "metadata": {},
   "outputs": [],
   "source": [
    "\n",
    "\n",
    "\n",
    "# Parse csv files to numpy array\n",
    "\n",
    "with open(Y_train_fpath) as f:\n",
    "    next(f)\n",
    "    Y_train = np.array([line.strip('\\n').split(',')[1] for line in f], dtype = float)\n",
    "with open(X_test_fpath) as f:\n",
    "    next(f)\n",
    "    X_test = np.array([line.strip('\\n').split(',')[1:] for line in f], dtype = float)\n",
    "\n",
    "def _normalize(X, train = True, specified_column = None, X_mean = None, X_std = None):\n",
    "    # This function normalizes specific columns of X.\n",
    "    # The mean and standard variance of training data will be reused when processing testing data.\n",
    "    #\n",
    "    # Arguments:\n",
    "    #     X: data to be processed\n",
    "    #     train: 'True' when processing training data, 'False' for testing data\n",
    "    #     specific_column: indexes of the columns that will be normalized. If 'None', all columns\n",
    "    #         will be normalized.\n",
    "    #     X_mean: mean value of training data, used when train = 'False'\n",
    "    #     X_std: standard deviation of training data, used when train = 'False'\n",
    "    # Outputs:\n",
    "    #     X: normalized data\n",
    "    #     X_mean: computed mean value of training data\n",
    "    #     X_std: computed standard deviation of training data\n",
    "\n",
    "    if specified_column == None:\n",
    "        specified_column = np.arange(X.shape[1])\n",
    "    if train:\n",
    "        X_mean = np.mean(X[:, specified_column] ,0).reshape(1, -1)\n",
    "        X_std  = np.std(X[:, specified_column], 0).reshape(1, -1)\n",
    "\n",
    "    X[:,specified_column] = (X[:, specified_column] - X_mean) / (X_std + 1e-8)\n",
    "     \n",
    "    return X, X_mean, X_std\n",
    "\n",
    "def _train_dev_split(X, Y, dev_ratio = 0.25):\n",
    "    # This function spilts data into training set and development set.\n",
    "    train_size = int(len(X) * (1 - dev_ratio))\n",
    "    return X[:train_size], Y[:train_size], X[train_size:], Y[train_size:]\n",
    "\n",
    "# Normalize training and testing data\n",
    "X_train, X_mean, X_std = _normalize(X_train, train = True)\n",
    "X_test, _, _= _normalize(X_test, train = False, specified_column = None, X_mean = X_mean, X_std = X_std)\n",
    "    \n",
    "# Split data into training set and development set\n",
    "dev_ratio = 0.1\n",
    "X_train, Y_train, X_dev, Y_dev = _train_dev_split(X_train, Y_train, dev_ratio = dev_ratio)\n",
    "\n",
    "train_size = X_train.shape[0]\n",
    "dev_size = X_dev.shape[0]\n",
    "test_size = X_test.shape[0]\n",
    "data_dim = X_train.shape[1]\n",
    "print('Size of training set: {}'.format(train_size))\n",
    "print('Size of development set: {}'.format(dev_size))\n",
    "print('Size of testing set: {}'.format(test_size))\n",
    "print('Dimension of data: {}'.format(data_dim))"
   ]
  }
 ],
 "metadata": {
  "kernelspec": {
   "display_name": "DataMining",
   "language": "python",
   "name": "datamining"
  },
  "language_info": {
   "codemirror_mode": {
    "name": "ipython",
    "version": 3
   },
   "file_extension": ".py",
   "mimetype": "text/x-python",
   "name": "python",
   "nbconvert_exporter": "python",
   "pygments_lexer": "ipython3",
   "version": "3.7.7"
  },
  "toc": {
   "base_numbering": 1,
   "nav_menu": {},
   "number_sections": true,
   "sideBar": true,
   "skip_h1_title": false,
   "title_cell": "Table of Contents",
   "title_sidebar": "Contents",
   "toc_cell": false,
   "toc_position": {},
   "toc_section_display": true,
   "toc_window_display": false
  }
 },
 "nbformat": 4,
 "nbformat_minor": 4
}
