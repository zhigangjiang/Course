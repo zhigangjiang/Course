{
 "cells": [
  {
   "cell_type": "code",
   "execution_count": 2,
   "metadata": {},
   "outputs": [
    {
     "ename": "error",
     "evalue": "OpenCV(4.1.2) /io/opencv/modules/imgproc/src/resize.cpp:3720: error: (-215:Assertion failed) !ssize.empty() in function 'resize'\n",
     "output_type": "error",
     "traceback": [
      "\u001b[0;31m---------------------------------------------------------------------------\u001b[0m",
      "\u001b[0;31merror\u001b[0m                                     Traceback (most recent call last)",
      "\u001b[0;32m<ipython-input-2-d5177ebb86ef>\u001b[0m in \u001b[0;36m<module>\u001b[0;34m\u001b[0m\n\u001b[1;32m     63\u001b[0m \u001b[0;34m\u001b[0m\u001b[0m\n\u001b[1;32m     64\u001b[0m \u001b[0mimg0\u001b[0m \u001b[0;34m=\u001b[0m \u001b[0mcv2\u001b[0m\u001b[0;34m.\u001b[0m\u001b[0mimread\u001b[0m\u001b[0;34m(\u001b[0m\u001b[0;34m\"images/leaf.jpg\"\u001b[0m\u001b[0;34m,\u001b[0m \u001b[0;36m0\u001b[0m\u001b[0;34m)\u001b[0m\u001b[0;34m\u001b[0m\u001b[0;34m\u001b[0m\u001b[0m\n\u001b[0;32m---> 65\u001b[0;31m \u001b[0mgray\u001b[0m \u001b[0;34m=\u001b[0m \u001b[0mcv2\u001b[0m\u001b[0;34m.\u001b[0m\u001b[0mresize\u001b[0m\u001b[0;34m(\u001b[0m\u001b[0mimg0\u001b[0m\u001b[0;34m,\u001b[0m \u001b[0;34m(\u001b[0m\u001b[0;36m400\u001b[0m\u001b[0;34m,\u001b[0m \u001b[0;36m400\u001b[0m\u001b[0;34m)\u001b[0m\u001b[0;34m)\u001b[0m\u001b[0;34m\u001b[0m\u001b[0;34m\u001b[0m\u001b[0m\n\u001b[0m\u001b[1;32m     66\u001b[0m \u001b[0;31m# test use\u001b[0m\u001b[0;34m\u001b[0m\u001b[0;34m\u001b[0m\u001b[0;34m\u001b[0m\u001b[0m\n\u001b[1;32m     67\u001b[0m \u001b[0;31m# gray = cv2.resize(img0, (4, 4))\u001b[0m\u001b[0;34m\u001b[0m\u001b[0;34m\u001b[0m\u001b[0;34m\u001b[0m\u001b[0m\n",
      "\u001b[0;31merror\u001b[0m: OpenCV(4.1.2) /io/opencv/modules/imgproc/src/resize.cpp:3720: error: (-215:Assertion failed) !ssize.empty() in function 'resize'\n"
     ]
    }
   ],
   "source": [
    "# -*- coding: utf-8 -*-\n",
    "\n",
    "\"\"\"\n",
    "    @Date: 2019-05-14\n",
    "    @Written By: jiangzhigang\n",
    "    @Description:\n",
    "    1. 计算累计概率\n",
    "    2. 每个像素映射 - 灰度值越大 - 255所乘概率越大 - 均衡作用\n",
    "\"\"\"\n",
    "import cv2\n",
    "import numpy as np\n",
    "import matplotlib.pyplot as plt\n",
    " \n",
    "\n",
    "def equalize_hist(img, level):\n",
    "    img = cv2.copyTo(img, None)\n",
    "    height = img.shape[0]\n",
    "    width = img.shape[1]\n",
    "\n",
    "    color_gray = np.zeros(level, np.float)\n",
    "    # n\n",
    "    for i in range(height):\n",
    "        for j in range(width):\n",
    "            color_gray[img[i, j]] += 1\n",
    "    # pr\n",
    "    are = height * width\n",
    "    for i in range(level):\n",
    "        color_gray[i] /= are\n",
    "    # sum(pr)\n",
    "    for i in range(1, level):\n",
    "        color_gray[i] += color_gray[i - 1]\n",
    "    # sk\n",
    "    for i in range(level):\n",
    "        color_gray[i] = color_gray[i] * (level - 1) + 0.5\n",
    "    # r -> s\n",
    "    for i in range(height):\n",
    "        for j in range(width):\n",
    "            img[i, j] = color_gray[img[i, j]]\n",
    "    return img\n",
    "\n",
    "\n",
    "def show_hist(img, level, title=\"hist\"):\n",
    "    height = img.shape[0]\n",
    "    width = img.shape[1]\n",
    "\n",
    "    color_gray = np.zeros(level, np.float)\n",
    "    # 遍历图片\n",
    "    for i in range(height):\n",
    "        for j in range(width):\n",
    "            color_gray[img[i, j]] += 1\n",
    "\n",
    "    # 概率\n",
    "    are = height * width\n",
    "    for i in range(level):\n",
    "        color_gray[i] /= are\n",
    "\n",
    "    x = np.linspace(0, level-1, level)\n",
    "    y = color_gray\n",
    "    plt.bar(x, y, 1, alpha=1, color='b')\n",
    "    plt.title(title)\n",
    "    plt.show()\n",
    "\n",
    "\n",
    "img0 = cv2.imread(\"images/leaf.jpg\", 0)\n",
    "gray = cv2.resize(img0, (400, 400))\n",
    "# test use\n",
    "# gray = cv2.resize(img0, (4, 4))\n",
    "# gray[0][0] = 0\n",
    "# gray[0][1] = 1\n",
    "# gray[0][2] = 2\n",
    "# gray[0][3] = 3\n",
    "# gray[1][0] = 4\n",
    "# gray[1][1] = 4\n",
    "# gray[1][2] = 4\n",
    "# gray[1][3] = 4\n",
    "# gray[2][0] = 5\n",
    "# gray[2][1] = 5\n",
    "# gray[2][2] = 5\n",
    "# gray[2][3] = 5\n",
    "# gray[3][0] = 6\n",
    "# gray[3][1] = 7\n",
    "# gray[3][2] = 5\n",
    "# gray[3][3] = 4\n",
    "\n",
    "plt.imshow(gray, cmap='gray')\n",
    "plt.title('resource')\n",
    "plt.show()\n",
    "\n",
    "# 原图\n",
    "show_hist(gray, 256, \"rec_hist\")\n",
    "# 均衡化\n",
    "destination = equalize_hist(gray, 256)\n",
    "plt.imshow(destination, cmap='gray')\n",
    "plt.title('destination')\n",
    "plt.show()\n",
    "show_hist(destination, 256, 'dst_hist')\n",
    "\n",
    "# opencv自带 均衡化\n",
    "destination_ = cv2.equalizeHist(gray)\n",
    "plt.imshow(destination_, cmap='gray')\n",
    "plt.title('destination_')\n",
    "plt.show()\n",
    "show_hist(destination_, 256, 'op_cv_hist')\n",
    "cv2.waitKey(0)\n"
   ]
  },
  {
   "cell_type": "code",
   "execution_count": 1,
   "metadata": {},
   "outputs": [
    {
     "data": {
      "text/plain": [
       "'/root'"
      ]
     },
     "execution_count": 1,
     "metadata": {},
     "output_type": "execute_result"
    }
   ],
   "source": []
  }
 ],
 "metadata": {
  "kernelspec": {
   "display_name": "ImageProcessing",
   "language": "python",
   "name": "imageprocessing"
  },
  "language_info": {
   "codemirror_mode": {
    "name": "ipython",
    "version": 3
   },
   "file_extension": ".py",
   "mimetype": "text/x-python",
   "name": "python",
   "nbconvert_exporter": "python",
   "pygments_lexer": "ipython3",
   "version": "3.7.5"
  }
 },
 "nbformat": 4,
 "nbformat_minor": 2
}
